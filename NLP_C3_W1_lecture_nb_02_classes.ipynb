{
  "cells": [
    {
      "cell_type": "markdown",
      "metadata": {
        "id": "view-in-github",
        "colab_type": "text"
      },
      "source": [
        "<a href=\"https://colab.research.google.com/github/vineetp6/Trax/blob/main/NLP_C3_W1_lecture_nb_02_classes.ipynb\" target=\"_parent\"><img src=\"https://colab.research.google.com/assets/colab-badge.svg\" alt=\"Open In Colab\"/></a>"
      ]
    },
    {
      "cell_type": "markdown",
      "metadata": {
        "id": "09auMVU94i7h"
      },
      "source": [
        "# Classes and subclasses \n",
        "\n",
        "In this notebook, I will show you the basics of classes and subclasses in Python. As you've seen in the lectures from this week, `Trax` uses layer classes as building blocks for deep learning models, so it is important to understand how classes and subclasses behave in order to be able to build custom layers when needed. \n",
        "\n",
        "By completing this notebook, you will:\n",
        "\n",
        "- Be able to define classes and subclasses in Python\n",
        "- Understand how inheritance works in subclasses\n",
        "- Be able to work with instances"
      ]
    },
    {
      "cell_type": "markdown",
      "metadata": {
        "id": "WHp7pMt44i7i"
      },
      "source": [
        "# Part 1: Parameters, methods and instances"
      ]
    },
    {
      "cell_type": "markdown",
      "metadata": {
        "id": "e5z0Kqys4i7j"
      },
      "source": [
        "First, let's define a class `My_Class`. "
      ]
    },
    {
      "cell_type": "code",
      "execution_count": 1,
      "metadata": {
        "id": "H3M8x4WE4i7k"
      },
      "outputs": [],
      "source": [
        "class My_Class: #Definition of My_class\n",
        "    x = None    "
      ]
    },
    {
      "cell_type": "markdown",
      "metadata": {
        "id": "6XNbqqxL4i7n"
      },
      "source": [
        "`My_Class`  has one parameter `x` without any value. You can think of parameters as the variables that every object assigned to a class will have. So, at this point, any object of class `My_Class` would have a variable `x` equal to `None`. To check this,  I'll create two instances of that class and get the value of `x` for both of them."
      ]
    },
    {
      "cell_type": "code",
      "execution_count": 2,
      "metadata": {
        "colab": {
          "base_uri": "https://localhost:8080/"
        },
        "id": "OxYx84kn4i7p",
        "outputId": "b03acac0-9657-4cef-a63b-3b5fdf6ab1be"
      },
      "outputs": [
        {
          "output_type": "stream",
          "name": "stdout",
          "text": [
            "Parameter x of instance_a: None\n",
            "Parameter x of instance_b: None\n"
          ]
        }
      ],
      "source": [
        "instance_a= My_Class() #To create an instance from class \"My_Class\" you have to call \"My_Class\"\n",
        "instance_b= My_Class()\n",
        "print('Parameter x of instance_a: ' + str(instance_a.x)) #To get a parameter 'x' from an instance 'a', write 'a.x'\n",
        "print('Parameter x of instance_b: ' + str(instance_b.x))"
      ]
    },
    {
      "cell_type": "markdown",
      "metadata": {
        "id": "1CTFn3ZA4i7t"
      },
      "source": [
        "For an existing instance you can assign new values for any of its parameters. In the next cell, assign a value of `5` to the parameter `x` of `instance_a`."
      ]
    },
    {
      "cell_type": "code",
      "execution_count": 3,
      "metadata": {
        "colab": {
          "base_uri": "https://localhost:8080/"
        },
        "id": "r2ZNy-Ub4i7t",
        "outputId": "56a9a324-51c5-4ecf-d260-81083658b12b"
      },
      "outputs": [
        {
          "output_type": "stream",
          "name": "stdout",
          "text": [
            "Parameter x of instance_a: 5\n"
          ]
        }
      ],
      "source": [
        "### START CODE HERE (1 line) ### \n",
        "instance_a.x = 5\n",
        "### END CODE HERE ###\n",
        "print('Parameter x of instance_a: ' + str(instance_a.x))"
      ]
    },
    {
      "cell_type": "markdown",
      "metadata": {
        "id": "yBQhYI8G4i7w"
      },
      "source": [
        "## 1.1 The `__init__` method"
      ]
    },
    {
      "cell_type": "markdown",
      "metadata": {
        "id": "kREmvDpU4i7w"
      },
      "source": [
        "When you want to assign values to the parameters of your class when an instance is created, it is necessary to define a special method: `__init__`. The `__init__` method is called when you create an instance of a class. It can have multiple arguments to initialize the paramenters of your instance. In the next cell I will define `My_Class` with an `__init__` method that takes the instance (`self`) and an argument `y` as inputs."
      ]
    },
    {
      "cell_type": "code",
      "execution_count": 4,
      "metadata": {
        "id": "u2sCpoQ44i7x"
      },
      "outputs": [],
      "source": [
        "class My_Class: \n",
        "    def __init__(self, y): # The __init__ method takes as input the instance to be initialized and a variable y\n",
        "        self.x = y         # Sets parameter x to be equal to y"
      ]
    },
    {
      "cell_type": "markdown",
      "metadata": {
        "id": "uNW85gLZ4i7z"
      },
      "source": [
        "In this case, the parameter `x` of an instance from `My_Class` would take the value of an argument `y`. \n",
        "The argument `self` is used to pass information from the instance being created to the method `__init__`. In the next cell, create an instance `instance_c`, with `x` equal to `10`."
      ]
    },
    {
      "cell_type": "code",
      "execution_count": 6,
      "metadata": {
        "colab": {
          "base_uri": "https://localhost:8080/"
        },
        "id": "q3HdL5gE4i7z",
        "outputId": "c11dac4e-df27-4d91-b09a-2cf55fae832d"
      },
      "outputs": [
        {
          "output_type": "stream",
          "name": "stdout",
          "text": [
            "Parameter x of instance_c: 10\n"
          ]
        }
      ],
      "source": [
        "### START CODE HERE (1 line) ### \n",
        "instance_c = My_Class(10)\n",
        "### END CODE HERE ###\n",
        "print('Parameter x of instance_c: ' + str(instance_c.x))"
      ]
    },
    {
      "cell_type": "markdown",
      "metadata": {
        "id": "B7KAptyt4i72"
      },
      "source": [
        "Note that in this case, you had to pass the argument `y` from the `__init__` method to create an instance of `My_Class`."
      ]
    },
    {
      "cell_type": "markdown",
      "metadata": {
        "id": "37ebsR2-4i72"
      },
      "source": [
        "## 1.2 The `__call__` method"
      ]
    },
    {
      "cell_type": "markdown",
      "metadata": {
        "id": "cH9kLr4l4i73"
      },
      "source": [
        "Another important method is the `__call__` method. It is performed whenever you call an initialized instance of a class. It can have multiple arguments and you can define it to do whatever you want like\n",
        "\n",
        "- Change a parameter, \n",
        "- Print a message,\n",
        "- Create new variables, etc.\n",
        "\n",
        "In the next cell, I'll define `My_Class` with the same `__init__` method as before and with a `__call__` method that adds `z` to parameter `x` and prints the result."
      ]
    },
    {
      "cell_type": "code",
      "execution_count": 7,
      "metadata": {
        "id": "gKtdNTrF4i74"
      },
      "outputs": [],
      "source": [
        "class My_Class: \n",
        "    def __init__(self, y): # The __init__ method takes as input the instance to be initialized and a variable y\n",
        "        self.x = y         # Sets parameter x to be equal to y\n",
        "    def __call__(self, z): # __call__ method with self and z as arguments\n",
        "        self.x += z        # Adds z to parameter x when called \n",
        "        print(self.x)"
      ]
    },
    {
      "cell_type": "markdown",
      "metadata": {
        "id": "DeAnAiWY4i77"
      },
      "source": [
        "Let’s create `instance_d` with `x` equal to 5."
      ]
    },
    {
      "cell_type": "code",
      "execution_count": 8,
      "metadata": {
        "id": "1HFiQ2Vl4i78"
      },
      "outputs": [],
      "source": [
        "instance_d = My_Class(5)"
      ]
    },
    {
      "cell_type": "markdown",
      "metadata": {
        "id": "0bO_UhcK4i7-"
      },
      "source": [
        "And now, see what happens when `instance_d` is called with argument `10`."
      ]
    },
    {
      "cell_type": "code",
      "execution_count": 9,
      "metadata": {
        "colab": {
          "base_uri": "https://localhost:8080/"
        },
        "id": "HC3UVOHG4i7-",
        "outputId": "8326bd69-1f84-45ef-a010-e21c75df2f0e"
      },
      "outputs": [
        {
          "output_type": "stream",
          "name": "stdout",
          "text": [
            "15\n"
          ]
        }
      ],
      "source": [
        "instance_d(10)"
      ]
    },
    {
      "cell_type": "markdown",
      "metadata": {
        "id": "H915poxZ4i8B"
      },
      "source": [
        "Now, you are ready to complete the following cell so any instance from `My_Class`:\n",
        "\n",
        "- Is initialized taking two arguments `y` and `z` and assigns them to `x_1` and `x_2`, respectively. And, \n",
        "- When called, takes the values of the parameters `x_1` and `x_2`, sums them, prints  and returns the result."
      ]
    },
    {
      "cell_type": "code",
      "execution_count": 11,
      "metadata": {
        "id": "c8TU0asb4i8C"
      },
      "outputs": [],
      "source": [
        "class My_Class: \n",
        "    def __init__(self, y, z): #Initialization of x_1 and x_2 with arguments y and z\n",
        "        ### START CODE HERE (2 lines) ### \n",
        "        self.x_1 = y\n",
        "        self.x_2 = z\n",
        "        ### END CODE HERE ###\n",
        "    def __call__(self):       #When called, adds the values of parameters x_1 and x_2, prints and returns the result \n",
        "        ### START CODE HERE (1 line) ### \n",
        "        result = self.x_1 + self.x_2 \n",
        "        ### END CODE HERE ### \n",
        "        print(\"Addition of {} and {} is {}\".format(self.x_1,self.x_2,result))\n",
        "        return result"
      ]
    },
    {
      "cell_type": "markdown",
      "metadata": {
        "id": "iRMAREVX4i8E"
      },
      "source": [
        "Run the next cell to check your implementation. If everything is correct, you shouldn't get any errors."
      ]
    },
    {
      "cell_type": "code",
      "execution_count": 12,
      "metadata": {
        "colab": {
          "base_uri": "https://localhost:8080/"
        },
        "id": "vnobIaV54i8F",
        "outputId": "a58df61c-adac-481f-d78a-8ba187cec9eb"
      },
      "outputs": [
        {
          "output_type": "stream",
          "name": "stdout",
          "text": [
            "Addition of 10 and 15 is 25\n",
            "\u001b[92mAll tests passed!\n"
          ]
        }
      ],
      "source": [
        "instance_e = My_Class(10,15)\n",
        "def test_class_definition():\n",
        "    \n",
        "    assert instance_e.x_1 == 10, \"Check the value assigned to x_1\"\n",
        "    assert instance_e.x_2 == 15, \"Check the value assigned to x_2\"\n",
        "    assert instance_e() == 25, \"Check the __call__ method\"\n",
        "    \n",
        "    print(\"\\033[92mAll tests passed!\")\n",
        "    \n",
        "test_class_definition()"
      ]
    },
    {
      "cell_type": "markdown",
      "metadata": {
        "id": "R6c65M4v4i8H"
      },
      "source": [
        "## 1.3 Custom methods"
      ]
    },
    {
      "cell_type": "markdown",
      "metadata": {
        "id": "kmFSLcYm4i8H"
      },
      "source": [
        "In addition to the `__init__` and `__call__` methods, your classes can have custom-built methods to do whatever you want when called. To define a custom method, you have to indicate its input arguments, the instructions that you want it to perform and the values to return (if any). In the next cell, `My_Class` is defined with `my_method` that multiplies the values of `x_1` and `x_2`, sums that product with an input `w`, and returns the result."
      ]
    },
    {
      "cell_type": "code",
      "execution_count": 13,
      "metadata": {
        "id": "3Uy-6i-t4i8I"
      },
      "outputs": [],
      "source": [
        "class My_Class: \n",
        "    def __init__(self, y, z): #Initialization of x_1 and x_2 with arguments y and z\n",
        "        self.x_1 = y\n",
        "        self.x_2 = z\n",
        "    def __call__(self):       #Performs an operation with x_1 and x_2, and returns the result\n",
        "        a = self.x_1 - 2*self.x_2 \n",
        "        return a\n",
        "    def my_method(self, w):   #Multiplies x_1 and x_2, adds argument w and returns the result\n",
        "        result = self.x_1*self.x_2 + w\n",
        "        return result"
      ]
    },
    {
      "cell_type": "markdown",
      "metadata": {
        "id": "9yh45EtP4i8K"
      },
      "source": [
        "Create an instance `instance_f` of `My_Class` with any integer values that you want for `x_1` and `x_2`. For that instance, see the result of calling `My_method`, with an argument `w` equal to `16`."
      ]
    },
    {
      "cell_type": "code",
      "execution_count": 14,
      "metadata": {
        "colab": {
          "base_uri": "https://localhost:8080/"
        },
        "id": "eCnQ0L3O4i8K",
        "outputId": "45ca8095-0cd8-45ee-98c7-79c2aa34a4bf"
      },
      "outputs": [
        {
          "output_type": "stream",
          "name": "stdout",
          "text": [
            "Output of my_method: 26\n"
          ]
        }
      ],
      "source": [
        "### START CODE HERE (1 line) ### \n",
        "instance_f = My_Class(1,10)\n",
        "### END CODE HERE ### \n",
        "print(\"Output of my_method:\",instance_f.my_method(16))"
      ]
    },
    {
      "cell_type": "markdown",
      "metadata": {
        "id": "tunxuZUj4i8N"
      },
      "source": [
        "As you can corroborate in the previous cell, to call a custom method `m`, with arguments `args`, for an instance `i` you must write `i.m(args)`. With that in mind, methods can call others within a class. In the following cell, try to define `new_method` which calls `my_method` with `v` as input argument. Try to do this on your own in the cell given below.\n",
        "\n"
      ]
    },
    {
      "cell_type": "code",
      "execution_count": 15,
      "metadata": {
        "id": "fIy65S_fzyqL"
      },
      "outputs": [],
      "source": [
        "class My_Class: \n",
        "    def __init__(self, y, z):         #Initialization of x_1 and x_2 with arguments y and z\n",
        "        self.x_1 = None\n",
        "        self.x_2 = None\n",
        "    def __call__(self):               #Performs an operation with x_1 and x_2, and returns the result\n",
        "        a = None \n",
        "        return a\n",
        "    def my_method(self, w):           #Multiplies x_1 and x_2, adds argument w and returns the result\n",
        "        b = None\n",
        "        return b\n",
        "    def new_method(self, v):          #Calls My_method with argument v\n",
        "        ### START CODE HERE (1 line) ### \n",
        "        result = None\n",
        "        ### END CODE HERE ### \n",
        "        return result"
      ]
    },
    {
      "cell_type": "markdown",
      "metadata": {
        "id": "aT03H_Y54i8R"
      },
      "source": [
        "<b>SPOILER ALERT</b> Solution:"
      ]
    },
    {
      "cell_type": "code",
      "execution_count": 16,
      "metadata": {
        "id": "8BbzXusv4i8S"
      },
      "outputs": [],
      "source": [
        "# hidden-cell\n",
        "class My_Class: \n",
        "    def __init__(self, y, z):      #Initialization of x_1 and x_2 with arguments y and z\n",
        "        self.x_1 = y\n",
        "        self.x_2 = z\n",
        "    def __call__(self):            #Performs an operation with x_1 and x_2, and returns the result\n",
        "        a = self.x_1 - 2*self.x_2 \n",
        "        return a\n",
        "    def my_method(self, w):        #Multiplies x_1 and x_2, adds argument w and returns the result\n",
        "        b = self.x_1*self.x_2 + w\n",
        "        return b\n",
        "    def new_method(self, v):       #Calls My_method with argument v\n",
        "        result = self.my_method(v)\n",
        "        return result"
      ]
    },
    {
      "cell_type": "code",
      "execution_count": 17,
      "metadata": {
        "colab": {
          "base_uri": "https://localhost:8080/"
        },
        "id": "72PvYsm7zyqO",
        "outputId": "24a13baf-08e6-434b-d427-a7ee5acbb694"
      },
      "outputs": [
        {
          "output_type": "stream",
          "name": "stdout",
          "text": [
            "Output of my_method: 26\n",
            "Output of new_method: 26\n"
          ]
        }
      ],
      "source": [
        "instance_g = My_Class(1,10)\n",
        "print(\"Output of my_method:\",instance_g.my_method(16))\n",
        "print(\"Output of new_method:\",instance_g.new_method(16))"
      ]
    },
    {
      "cell_type": "markdown",
      "metadata": {
        "id": "4v2vEQog4i8X"
      },
      "source": [
        "# Part 2: Subclasses and Inheritance"
      ]
    },
    {
      "cell_type": "markdown",
      "metadata": {
        "id": "l9wZ4MQP4i8Y"
      },
      "source": [
        "`Trax` uses classes and subclasses to define layers. The base class in `Trax` is `layer`, which means that every layer from a deep learning model is defined as a subclass of the `layer` class. In this part of the notebook, you are going to see how subclasses work. To define a subclass `sub` from class `super`, you have to write `class sub(super):` and define any method and parameter that you want for your subclass. In the next cell, I define `sub_c` as a subclass of `My_Class` with only one method (`additional_method`)."
      ]
    },
    {
      "cell_type": "code",
      "execution_count": 18,
      "metadata": {
        "id": "O0QQiQ8y4i8Z"
      },
      "outputs": [],
      "source": [
        "class sub_c(My_Class):           #Subclass sub_c from My_class\n",
        "    def additional_method(self): #Prints the value of parameter x_1\n",
        "        print(self.x_1)"
      ]
    },
    {
      "cell_type": "markdown",
      "metadata": {
        "id": "sAPx_PrS4i8d"
      },
      "source": [
        "## 2.1 Inheritance"
      ]
    },
    {
      "cell_type": "markdown",
      "metadata": {
        "id": "WIQn2Xvt4i8e"
      },
      "source": [
        "When you define a subclass `sub`, every method and parameter is inherited from `super` class, including the `__init__` and `__call__` methods. This means that any instance from `sub` can use the methods defined in `super`.  Run the following cell and see for yourself."
      ]
    },
    {
      "cell_type": "code",
      "execution_count": 19,
      "metadata": {
        "colab": {
          "base_uri": "https://localhost:8080/"
        },
        "id": "Fofmqgjg4i8e",
        "outputId": "3b236466-a0cd-45e1-a2fc-67371fbec5d2"
      },
      "outputs": [
        {
          "output_type": "stream",
          "name": "stdout",
          "text": [
            "Parameter x_1 of instance_sub_a: 1\n",
            "Parameter x_2 of instance_sub_a: 10\n",
            "Output of my_method of instance_sub_a: 26\n"
          ]
        }
      ],
      "source": [
        "instance_sub_a = sub_c(1,10)\n",
        "print('Parameter x_1 of instance_sub_a: ' + str(instance_sub_a.x_1))\n",
        "print('Parameter x_2 of instance_sub_a: ' + str(instance_sub_a.x_2))\n",
        "print(\"Output of my_method of instance_sub_a:\",instance_sub_a.my_method(16))\n"
      ]
    },
    {
      "cell_type": "markdown",
      "metadata": {
        "id": "-eRYYOUA4i8g"
      },
      "source": [
        "As you can see, `sub_c` does not have an initialization method `__init__`, it is inherited from `My_class`. However, you can overwrite any method you want by defining it again in the subclass. For instance, in the next cell define a class `sub_c` with a redefined `my_Method` that multiplies `x_1` and `x_2` but does not add any additional argument."
      ]
    },
    {
      "cell_type": "code",
      "execution_count": 20,
      "metadata": {
        "id": "Eq_e7Ngy4i8g"
      },
      "outputs": [],
      "source": [
        "class sub_c(My_Class):           #Subclass sub_c from My_class\n",
        "    def my_method(self):         #Multiplies x_1 and x_2 and returns the result\n",
        "        ### START CODE HERE (1 line) ###\n",
        "        b = self.x_1*self.x_2 \n",
        "        ### END CODE HERE ###\n",
        "        return b"
      ]
    },
    {
      "cell_type": "markdown",
      "metadata": {
        "id": "Ox5KpdVX4i8j"
      },
      "source": [
        "To check your implementation run the following cell."
      ]
    },
    {
      "cell_type": "code",
      "execution_count": null,
      "metadata": {
        "id": "2Dwv5Mic4i8k",
        "outputId": "51f540a5-9ff5-480d-9688-0c7d85ed5b3c"
      },
      "outputs": [
        {
          "name": "stdout",
          "output_type": "stream",
          "text": [
            "Output of overridden my_method of test: 30\n"
          ]
        }
      ],
      "source": [
        "test = sub_c(3,10)\n",
        "assert test.my_method() == 30, \"The method my_method should return the product between x_1 and x_2\"\n",
        "\n",
        "print(\"Output of overridden my_method of test:\",test.my_method()) #notice we didn't pass any parameter to call my_method\n",
        "#print(\"Output of overridden my_method of test:\",test.my_method(16)) #try to see what happens if you call it with 1 argument"
      ]
    },
    {
      "cell_type": "markdown",
      "metadata": {
        "id": "XN-uNk9g4i8m"
      },
      "source": [
        "In the next cell, two instances are created, one of `My_Class` and another one of `sub_c`. The instances are initialized with equal `x_1` and `x_2` parameters."
      ]
    },
    {
      "cell_type": "code",
      "execution_count": null,
      "metadata": {
        "id": "Q1WNNr9G4i8n",
        "outputId": "f3cf1738-000e-48b5-f495-e78d138b70e5"
      },
      "outputs": [
        {
          "name": "stdout",
          "output_type": "stream",
          "text": [
            "My_method for an instance of sub_c returns: 10\n",
            "My_method for an instance of My_Class returns: 20\n"
          ]
        }
      ],
      "source": [
        "y,z= 1,10\n",
        "instance_sub_a = sub_c(y,z)\n",
        "instance_a = My_Class(y,z)\n",
        "print('My_method for an instance of sub_c returns: ' + str(instance_sub_a.my_method()))\n",
        "print('My_method for an instance of My_Class returns: ' + str(instance_a.my_method(10)))"
      ]
    },
    {
      "cell_type": "markdown",
      "metadata": {
        "id": "Ii163f3D4i8o"
      },
      "source": [
        "As you can see, even though `sub_c` is a subclass from `My_Class` and both instances are initialized with the same values, `My_method` returns different results for each instance because you overwrote `My_method` for `sub_c`."
      ]
    },
    {
      "cell_type": "markdown",
      "metadata": {
        "id": "1-VHDsHW4i8p"
      },
      "source": [
        "<b>Congratulations!</b> You just reviewed the basics behind classes and subclasses. Now you can define your own classes and subclasses, work with instances and overwrite inherited methods. The concepts within this notebook are more than enough to understand how layers in `Trax` work."
      ]
    }
  ],
  "metadata": {
    "colab": {
      "provenance": [],
      "include_colab_link": true
    },
    "kernelspec": {
      "display_name": "Python 3",
      "language": "python",
      "name": "python3"
    },
    "language_info": {
      "codemirror_mode": {
        "name": "ipython",
        "version": 3
      },
      "file_extension": ".py",
      "mimetype": "text/x-python",
      "name": "python",
      "nbconvert_exporter": "python",
      "pygments_lexer": "ipython3",
      "version": "3.7.1"
    }
  },
  "nbformat": 4,
  "nbformat_minor": 0
}