{
  "nbformat": 4,
  "nbformat_minor": 0,
  "metadata": {
    "accelerator": "TPU",
    "colab": {
      "provenance": [],
      "include_colab_link": true
    },
    "kernelspec": {
      "display_name": "Python 3",
      "name": "python3"
    },
    "widgets": {
      "application/vnd.jupyter.widget-state+json": {
        "2e3b85e8eb4b435fa468ba3f93be7dad": {
          "model_module": "@jupyter-widgets/controls",
          "model_name": "HBoxModel",
          "model_module_version": "1.5.0",
          "state": {
            "_dom_classes": [],
            "_model_module": "@jupyter-widgets/controls",
            "_model_module_version": "1.5.0",
            "_model_name": "HBoxModel",
            "_view_count": null,
            "_view_module": "@jupyter-widgets/controls",
            "_view_module_version": "1.5.0",
            "_view_name": "HBoxView",
            "box_style": "",
            "children": [
              "IPY_MODEL_29306a315f1045afa03620751f9dc8d1",
              "IPY_MODEL_66e27e198d1b45c5ab659b0e9e84ad28",
              "IPY_MODEL_785e98c59c6b49409fa5268dc28f1c2d"
            ],
            "layout": "IPY_MODEL_ba43f69cc8c64254ac41b4bad02f7fce"
          }
        },
        "29306a315f1045afa03620751f9dc8d1": {
          "model_module": "@jupyter-widgets/controls",
          "model_name": "HTMLModel",
          "model_module_version": "1.5.0",
          "state": {
            "_dom_classes": [],
            "_model_module": "@jupyter-widgets/controls",
            "_model_module_version": "1.5.0",
            "_model_name": "HTMLModel",
            "_view_count": null,
            "_view_module": "@jupyter-widgets/controls",
            "_view_module_version": "1.5.0",
            "_view_name": "HTMLView",
            "description": "",
            "description_tooltip": null,
            "layout": "IPY_MODEL_c9b3cd298bee4fa0bb47d62cd6397ee4",
            "placeholder": "​",
            "style": "IPY_MODEL_745825ceddff49a7824803dbb24684f0",
            "value": "Dl Completed...: 100%"
          }
        },
        "66e27e198d1b45c5ab659b0e9e84ad28": {
          "model_module": "@jupyter-widgets/controls",
          "model_name": "FloatProgressModel",
          "model_module_version": "1.5.0",
          "state": {
            "_dom_classes": [],
            "_model_module": "@jupyter-widgets/controls",
            "_model_module_version": "1.5.0",
            "_model_name": "FloatProgressModel",
            "_view_count": null,
            "_view_module": "@jupyter-widgets/controls",
            "_view_module_version": "1.5.0",
            "_view_name": "ProgressView",
            "bar_style": "success",
            "description": "",
            "description_tooltip": null,
            "layout": "IPY_MODEL_69e926593b3c42bf9d95a01d65702f1d",
            "max": 1,
            "min": 0,
            "orientation": "horizontal",
            "style": "IPY_MODEL_0f2a963824fc485196c198bc63e31be5",
            "value": 1
          }
        },
        "785e98c59c6b49409fa5268dc28f1c2d": {
          "model_module": "@jupyter-widgets/controls",
          "model_name": "HTMLModel",
          "model_module_version": "1.5.0",
          "state": {
            "_dom_classes": [],
            "_model_module": "@jupyter-widgets/controls",
            "_model_module_version": "1.5.0",
            "_model_name": "HTMLModel",
            "_view_count": null,
            "_view_module": "@jupyter-widgets/controls",
            "_view_module_version": "1.5.0",
            "_view_name": "HTMLView",
            "description": "",
            "description_tooltip": null,
            "layout": "IPY_MODEL_071f2d05263c479dbe4483090e923ffb",
            "placeholder": "​",
            "style": "IPY_MODEL_84c4de8b443241ddb571ba3c84a952d9",
            "value": " 1/1 [00:04&lt;00:00,  4.07s/ url]"
          }
        },
        "ba43f69cc8c64254ac41b4bad02f7fce": {
          "model_module": "@jupyter-widgets/base",
          "model_name": "LayoutModel",
          "model_module_version": "1.2.0",
          "state": {
            "_model_module": "@jupyter-widgets/base",
            "_model_module_version": "1.2.0",
            "_model_name": "LayoutModel",
            "_view_count": null,
            "_view_module": "@jupyter-widgets/base",
            "_view_module_version": "1.2.0",
            "_view_name": "LayoutView",
            "align_content": null,
            "align_items": null,
            "align_self": null,
            "border": null,
            "bottom": null,
            "display": null,
            "flex": null,
            "flex_flow": null,
            "grid_area": null,
            "grid_auto_columns": null,
            "grid_auto_flow": null,
            "grid_auto_rows": null,
            "grid_column": null,
            "grid_gap": null,
            "grid_row": null,
            "grid_template_areas": null,
            "grid_template_columns": null,
            "grid_template_rows": null,
            "height": null,
            "justify_content": null,
            "justify_items": null,
            "left": null,
            "margin": null,
            "max_height": null,
            "max_width": null,
            "min_height": null,
            "min_width": null,
            "object_fit": null,
            "object_position": null,
            "order": null,
            "overflow": null,
            "overflow_x": null,
            "overflow_y": null,
            "padding": null,
            "right": null,
            "top": null,
            "visibility": null,
            "width": null
          }
        },
        "c9b3cd298bee4fa0bb47d62cd6397ee4": {
          "model_module": "@jupyter-widgets/base",
          "model_name": "LayoutModel",
          "model_module_version": "1.2.0",
          "state": {
            "_model_module": "@jupyter-widgets/base",
            "_model_module_version": "1.2.0",
            "_model_name": "LayoutModel",
            "_view_count": null,
            "_view_module": "@jupyter-widgets/base",
            "_view_module_version": "1.2.0",
            "_view_name": "LayoutView",
            "align_content": null,
            "align_items": null,
            "align_self": null,
            "border": null,
            "bottom": null,
            "display": null,
            "flex": null,
            "flex_flow": null,
            "grid_area": null,
            "grid_auto_columns": null,
            "grid_auto_flow": null,
            "grid_auto_rows": null,
            "grid_column": null,
            "grid_gap": null,
            "grid_row": null,
            "grid_template_areas": null,
            "grid_template_columns": null,
            "grid_template_rows": null,
            "height": null,
            "justify_content": null,
            "justify_items": null,
            "left": null,
            "margin": null,
            "max_height": null,
            "max_width": null,
            "min_height": null,
            "min_width": null,
            "object_fit": null,
            "object_position": null,
            "order": null,
            "overflow": null,
            "overflow_x": null,
            "overflow_y": null,
            "padding": null,
            "right": null,
            "top": null,
            "visibility": null,
            "width": null
          }
        },
        "745825ceddff49a7824803dbb24684f0": {
          "model_module": "@jupyter-widgets/controls",
          "model_name": "DescriptionStyleModel",
          "model_module_version": "1.5.0",
          "state": {
            "_model_module": "@jupyter-widgets/controls",
            "_model_module_version": "1.5.0",
            "_model_name": "DescriptionStyleModel",
            "_view_count": null,
            "_view_module": "@jupyter-widgets/base",
            "_view_module_version": "1.2.0",
            "_view_name": "StyleView",
            "description_width": ""
          }
        },
        "69e926593b3c42bf9d95a01d65702f1d": {
          "model_module": "@jupyter-widgets/base",
          "model_name": "LayoutModel",
          "model_module_version": "1.2.0",
          "state": {
            "_model_module": "@jupyter-widgets/base",
            "_model_module_version": "1.2.0",
            "_model_name": "LayoutModel",
            "_view_count": null,
            "_view_module": "@jupyter-widgets/base",
            "_view_module_version": "1.2.0",
            "_view_name": "LayoutView",
            "align_content": null,
            "align_items": null,
            "align_self": null,
            "border": null,
            "bottom": null,
            "display": null,
            "flex": null,
            "flex_flow": null,
            "grid_area": null,
            "grid_auto_columns": null,
            "grid_auto_flow": null,
            "grid_auto_rows": null,
            "grid_column": null,
            "grid_gap": null,
            "grid_row": null,
            "grid_template_areas": null,
            "grid_template_columns": null,
            "grid_template_rows": null,
            "height": null,
            "justify_content": null,
            "justify_items": null,
            "left": null,
            "margin": null,
            "max_height": null,
            "max_width": null,
            "min_height": null,
            "min_width": null,
            "object_fit": null,
            "object_position": null,
            "order": null,
            "overflow": null,
            "overflow_x": null,
            "overflow_y": null,
            "padding": null,
            "right": null,
            "top": null,
            "visibility": null,
            "width": "20px"
          }
        },
        "0f2a963824fc485196c198bc63e31be5": {
          "model_module": "@jupyter-widgets/controls",
          "model_name": "ProgressStyleModel",
          "model_module_version": "1.5.0",
          "state": {
            "_model_module": "@jupyter-widgets/controls",
            "_model_module_version": "1.5.0",
            "_model_name": "ProgressStyleModel",
            "_view_count": null,
            "_view_module": "@jupyter-widgets/base",
            "_view_module_version": "1.2.0",
            "_view_name": "StyleView",
            "bar_color": null,
            "description_width": ""
          }
        },
        "071f2d05263c479dbe4483090e923ffb": {
          "model_module": "@jupyter-widgets/base",
          "model_name": "LayoutModel",
          "model_module_version": "1.2.0",
          "state": {
            "_model_module": "@jupyter-widgets/base",
            "_model_module_version": "1.2.0",
            "_model_name": "LayoutModel",
            "_view_count": null,
            "_view_module": "@jupyter-widgets/base",
            "_view_module_version": "1.2.0",
            "_view_name": "LayoutView",
            "align_content": null,
            "align_items": null,
            "align_self": null,
            "border": null,
            "bottom": null,
            "display": null,
            "flex": null,
            "flex_flow": null,
            "grid_area": null,
            "grid_auto_columns": null,
            "grid_auto_flow": null,
            "grid_auto_rows": null,
            "grid_column": null,
            "grid_gap": null,
            "grid_row": null,
            "grid_template_areas": null,
            "grid_template_columns": null,
            "grid_template_rows": null,
            "height": null,
            "justify_content": null,
            "justify_items": null,
            "left": null,
            "margin": null,
            "max_height": null,
            "max_width": null,
            "min_height": null,
            "min_width": null,
            "object_fit": null,
            "object_position": null,
            "order": null,
            "overflow": null,
            "overflow_x": null,
            "overflow_y": null,
            "padding": null,
            "right": null,
            "top": null,
            "visibility": null,
            "width": null
          }
        },
        "84c4de8b443241ddb571ba3c84a952d9": {
          "model_module": "@jupyter-widgets/controls",
          "model_name": "DescriptionStyleModel",
          "model_module_version": "1.5.0",
          "state": {
            "_model_module": "@jupyter-widgets/controls",
            "_model_module_version": "1.5.0",
            "_model_name": "DescriptionStyleModel",
            "_view_count": null,
            "_view_module": "@jupyter-widgets/base",
            "_view_module_version": "1.2.0",
            "_view_name": "StyleView",
            "description_width": ""
          }
        },
        "da50ec2a84884efb9ee1b70a1c09a625": {
          "model_module": "@jupyter-widgets/controls",
          "model_name": "HBoxModel",
          "model_module_version": "1.5.0",
          "state": {
            "_dom_classes": [],
            "_model_module": "@jupyter-widgets/controls",
            "_model_module_version": "1.5.0",
            "_model_name": "HBoxModel",
            "_view_count": null,
            "_view_module": "@jupyter-widgets/controls",
            "_view_module_version": "1.5.0",
            "_view_name": "HBoxView",
            "box_style": "",
            "children": [
              "IPY_MODEL_8b71a0bc3756405987df48bcf73eb9b4",
              "IPY_MODEL_faf27d98cc2d4464a4cd79593854c9f3",
              "IPY_MODEL_1ef2ae4f5cb14aacbddde91b3a204d1d"
            ],
            "layout": "IPY_MODEL_63a7ab56e6ec41e18f73a00acb9f1aad"
          }
        },
        "8b71a0bc3756405987df48bcf73eb9b4": {
          "model_module": "@jupyter-widgets/controls",
          "model_name": "HTMLModel",
          "model_module_version": "1.5.0",
          "state": {
            "_dom_classes": [],
            "_model_module": "@jupyter-widgets/controls",
            "_model_module_version": "1.5.0",
            "_model_name": "HTMLModel",
            "_view_count": null,
            "_view_module": "@jupyter-widgets/controls",
            "_view_module_version": "1.5.0",
            "_view_name": "HTMLView",
            "description": "",
            "description_tooltip": null,
            "layout": "IPY_MODEL_884b9c581f0c462c8c26765290ef8606",
            "placeholder": "​",
            "style": "IPY_MODEL_7a6b1a16055544d68dc75805e7ab903c",
            "value": "Dl Size...: 100%"
          }
        },
        "faf27d98cc2d4464a4cd79593854c9f3": {
          "model_module": "@jupyter-widgets/controls",
          "model_name": "FloatProgressModel",
          "model_module_version": "1.5.0",
          "state": {
            "_dom_classes": [],
            "_model_module": "@jupyter-widgets/controls",
            "_model_module_version": "1.5.0",
            "_model_name": "FloatProgressModel",
            "_view_count": null,
            "_view_module": "@jupyter-widgets/controls",
            "_view_module_version": "1.5.0",
            "_view_name": "ProgressView",
            "bar_style": "success",
            "description": "",
            "description_tooltip": null,
            "layout": "IPY_MODEL_c181123abf9b4bf084656411ab9c9dec",
            "max": 1,
            "min": 0,
            "orientation": "horizontal",
            "style": "IPY_MODEL_a85f333a5f264035a6fd1e7d69f08f50",
            "value": 1
          }
        },
        "1ef2ae4f5cb14aacbddde91b3a204d1d": {
          "model_module": "@jupyter-widgets/controls",
          "model_name": "HTMLModel",
          "model_module_version": "1.5.0",
          "state": {
            "_dom_classes": [],
            "_model_module": "@jupyter-widgets/controls",
            "_model_module_version": "1.5.0",
            "_model_name": "HTMLModel",
            "_view_count": null,
            "_view_module": "@jupyter-widgets/controls",
            "_view_module_version": "1.5.0",
            "_view_name": "HTMLView",
            "description": "",
            "description_tooltip": null,
            "layout": "IPY_MODEL_93e7675ae8894aea8a025201a58cf3bc",
            "placeholder": "​",
            "style": "IPY_MODEL_6e9b3c4356014245adc342de708277cf",
            "value": " 80/80 [00:04&lt;00:00, 49.14 MiB/s]"
          }
        },
        "63a7ab56e6ec41e18f73a00acb9f1aad": {
          "model_module": "@jupyter-widgets/base",
          "model_name": "LayoutModel",
          "model_module_version": "1.2.0",
          "state": {
            "_model_module": "@jupyter-widgets/base",
            "_model_module_version": "1.2.0",
            "_model_name": "LayoutModel",
            "_view_count": null,
            "_view_module": "@jupyter-widgets/base",
            "_view_module_version": "1.2.0",
            "_view_name": "LayoutView",
            "align_content": null,
            "align_items": null,
            "align_self": null,
            "border": null,
            "bottom": null,
            "display": null,
            "flex": null,
            "flex_flow": null,
            "grid_area": null,
            "grid_auto_columns": null,
            "grid_auto_flow": null,
            "grid_auto_rows": null,
            "grid_column": null,
            "grid_gap": null,
            "grid_row": null,
            "grid_template_areas": null,
            "grid_template_columns": null,
            "grid_template_rows": null,
            "height": null,
            "justify_content": null,
            "justify_items": null,
            "left": null,
            "margin": null,
            "max_height": null,
            "max_width": null,
            "min_height": null,
            "min_width": null,
            "object_fit": null,
            "object_position": null,
            "order": null,
            "overflow": null,
            "overflow_x": null,
            "overflow_y": null,
            "padding": null,
            "right": null,
            "top": null,
            "visibility": null,
            "width": null
          }
        },
        "884b9c581f0c462c8c26765290ef8606": {
          "model_module": "@jupyter-widgets/base",
          "model_name": "LayoutModel",
          "model_module_version": "1.2.0",
          "state": {
            "_model_module": "@jupyter-widgets/base",
            "_model_module_version": "1.2.0",
            "_model_name": "LayoutModel",
            "_view_count": null,
            "_view_module": "@jupyter-widgets/base",
            "_view_module_version": "1.2.0",
            "_view_name": "LayoutView",
            "align_content": null,
            "align_items": null,
            "align_self": null,
            "border": null,
            "bottom": null,
            "display": null,
            "flex": null,
            "flex_flow": null,
            "grid_area": null,
            "grid_auto_columns": null,
            "grid_auto_flow": null,
            "grid_auto_rows": null,
            "grid_column": null,
            "grid_gap": null,
            "grid_row": null,
            "grid_template_areas": null,
            "grid_template_columns": null,
            "grid_template_rows": null,
            "height": null,
            "justify_content": null,
            "justify_items": null,
            "left": null,
            "margin": null,
            "max_height": null,
            "max_width": null,
            "min_height": null,
            "min_width": null,
            "object_fit": null,
            "object_position": null,
            "order": null,
            "overflow": null,
            "overflow_x": null,
            "overflow_y": null,
            "padding": null,
            "right": null,
            "top": null,
            "visibility": null,
            "width": null
          }
        },
        "7a6b1a16055544d68dc75805e7ab903c": {
          "model_module": "@jupyter-widgets/controls",
          "model_name": "DescriptionStyleModel",
          "model_module_version": "1.5.0",
          "state": {
            "_model_module": "@jupyter-widgets/controls",
            "_model_module_version": "1.5.0",
            "_model_name": "DescriptionStyleModel",
            "_view_count": null,
            "_view_module": "@jupyter-widgets/base",
            "_view_module_version": "1.2.0",
            "_view_name": "StyleView",
            "description_width": ""
          }
        },
        "c181123abf9b4bf084656411ab9c9dec": {
          "model_module": "@jupyter-widgets/base",
          "model_name": "LayoutModel",
          "model_module_version": "1.2.0",
          "state": {
            "_model_module": "@jupyter-widgets/base",
            "_model_module_version": "1.2.0",
            "_model_name": "LayoutModel",
            "_view_count": null,
            "_view_module": "@jupyter-widgets/base",
            "_view_module_version": "1.2.0",
            "_view_name": "LayoutView",
            "align_content": null,
            "align_items": null,
            "align_self": null,
            "border": null,
            "bottom": null,
            "display": null,
            "flex": null,
            "flex_flow": null,
            "grid_area": null,
            "grid_auto_columns": null,
            "grid_auto_flow": null,
            "grid_auto_rows": null,
            "grid_column": null,
            "grid_gap": null,
            "grid_row": null,
            "grid_template_areas": null,
            "grid_template_columns": null,
            "grid_template_rows": null,
            "height": null,
            "justify_content": null,
            "justify_items": null,
            "left": null,
            "margin": null,
            "max_height": null,
            "max_width": null,
            "min_height": null,
            "min_width": null,
            "object_fit": null,
            "object_position": null,
            "order": null,
            "overflow": null,
            "overflow_x": null,
            "overflow_y": null,
            "padding": null,
            "right": null,
            "top": null,
            "visibility": null,
            "width": "20px"
          }
        },
        "a85f333a5f264035a6fd1e7d69f08f50": {
          "model_module": "@jupyter-widgets/controls",
          "model_name": "ProgressStyleModel",
          "model_module_version": "1.5.0",
          "state": {
            "_model_module": "@jupyter-widgets/controls",
            "_model_module_version": "1.5.0",
            "_model_name": "ProgressStyleModel",
            "_view_count": null,
            "_view_module": "@jupyter-widgets/base",
            "_view_module_version": "1.2.0",
            "_view_name": "StyleView",
            "bar_color": null,
            "description_width": ""
          }
        },
        "93e7675ae8894aea8a025201a58cf3bc": {
          "model_module": "@jupyter-widgets/base",
          "model_name": "LayoutModel",
          "model_module_version": "1.2.0",
          "state": {
            "_model_module": "@jupyter-widgets/base",
            "_model_module_version": "1.2.0",
            "_model_name": "LayoutModel",
            "_view_count": null,
            "_view_module": "@jupyter-widgets/base",
            "_view_module_version": "1.2.0",
            "_view_name": "LayoutView",
            "align_content": null,
            "align_items": null,
            "align_self": null,
            "border": null,
            "bottom": null,
            "display": null,
            "flex": null,
            "flex_flow": null,
            "grid_area": null,
            "grid_auto_columns": null,
            "grid_auto_flow": null,
            "grid_auto_rows": null,
            "grid_column": null,
            "grid_gap": null,
            "grid_row": null,
            "grid_template_areas": null,
            "grid_template_columns": null,
            "grid_template_rows": null,
            "height": null,
            "justify_content": null,
            "justify_items": null,
            "left": null,
            "margin": null,
            "max_height": null,
            "max_width": null,
            "min_height": null,
            "min_width": null,
            "object_fit": null,
            "object_position": null,
            "order": null,
            "overflow": null,
            "overflow_x": null,
            "overflow_y": null,
            "padding": null,
            "right": null,
            "top": null,
            "visibility": null,
            "width": null
          }
        },
        "6e9b3c4356014245adc342de708277cf": {
          "model_module": "@jupyter-widgets/controls",
          "model_name": "DescriptionStyleModel",
          "model_module_version": "1.5.0",
          "state": {
            "_model_module": "@jupyter-widgets/controls",
            "_model_module_version": "1.5.0",
            "_model_name": "DescriptionStyleModel",
            "_view_count": null,
            "_view_module": "@jupyter-widgets/base",
            "_view_module_version": "1.2.0",
            "_view_name": "StyleView",
            "description_width": ""
          }
        },
        "30ed8115dff741e1bf17077df812719b": {
          "model_module": "@jupyter-widgets/controls",
          "model_name": "HBoxModel",
          "model_module_version": "1.5.0",
          "state": {
            "_dom_classes": [],
            "_model_module": "@jupyter-widgets/controls",
            "_model_module_version": "1.5.0",
            "_model_name": "HBoxModel",
            "_view_count": null,
            "_view_module": "@jupyter-widgets/controls",
            "_view_module_version": "1.5.0",
            "_view_name": "HBoxView",
            "box_style": "",
            "children": [
              "IPY_MODEL_416274a631f247488757a50424258491",
              "IPY_MODEL_b23fe69d8b3240009c81539e871abb83",
              "IPY_MODEL_0b42350f26a145a795b542bbe9210f6f"
            ],
            "layout": "IPY_MODEL_8367747b0a88444988c792018555df91"
          }
        },
        "416274a631f247488757a50424258491": {
          "model_module": "@jupyter-widgets/controls",
          "model_name": "HTMLModel",
          "model_module_version": "1.5.0",
          "state": {
            "_dom_classes": [],
            "_model_module": "@jupyter-widgets/controls",
            "_model_module_version": "1.5.0",
            "_model_name": "HTMLModel",
            "_view_count": null,
            "_view_module": "@jupyter-widgets/controls",
            "_view_module_version": "1.5.0",
            "_view_name": "HTMLView",
            "description": "",
            "description_tooltip": null,
            "layout": "IPY_MODEL_3b88fd3f7d7e45349131d23581b7e15a",
            "placeholder": "​",
            "style": "IPY_MODEL_b985e71c88c5496db7e4d07e6e5cfc8e",
            "value": "Generating splits...: 100%"
          }
        },
        "b23fe69d8b3240009c81539e871abb83": {
          "model_module": "@jupyter-widgets/controls",
          "model_name": "FloatProgressModel",
          "model_module_version": "1.5.0",
          "state": {
            "_dom_classes": [],
            "_model_module": "@jupyter-widgets/controls",
            "_model_module_version": "1.5.0",
            "_model_name": "FloatProgressModel",
            "_view_count": null,
            "_view_module": "@jupyter-widgets/controls",
            "_view_module_version": "1.5.0",
            "_view_name": "ProgressView",
            "bar_style": "",
            "description": "",
            "description_tooltip": null,
            "layout": "IPY_MODEL_c2800072a90a4daeb40b15f75badaa8b",
            "max": 3,
            "min": 0,
            "orientation": "horizontal",
            "style": "IPY_MODEL_291f2a3e85f64225913e5c0402c6cc6d",
            "value": 3
          }
        },
        "0b42350f26a145a795b542bbe9210f6f": {
          "model_module": "@jupyter-widgets/controls",
          "model_name": "HTMLModel",
          "model_module_version": "1.5.0",
          "state": {
            "_dom_classes": [],
            "_model_module": "@jupyter-widgets/controls",
            "_model_module_version": "1.5.0",
            "_model_name": "HTMLModel",
            "_view_count": null,
            "_view_module": "@jupyter-widgets/controls",
            "_view_module_version": "1.5.0",
            "_view_name": "HTMLView",
            "description": "",
            "description_tooltip": null,
            "layout": "IPY_MODEL_667dc45665224a2bb521280f6c8e7627",
            "placeholder": "​",
            "style": "IPY_MODEL_9142576f7440478998cad83ebad9494e",
            "value": " 3/3 [00:45&lt;00:00, 15.88s/ splits]"
          }
        },
        "8367747b0a88444988c792018555df91": {
          "model_module": "@jupyter-widgets/base",
          "model_name": "LayoutModel",
          "model_module_version": "1.2.0",
          "state": {
            "_model_module": "@jupyter-widgets/base",
            "_model_module_version": "1.2.0",
            "_model_name": "LayoutModel",
            "_view_count": null,
            "_view_module": "@jupyter-widgets/base",
            "_view_module_version": "1.2.0",
            "_view_name": "LayoutView",
            "align_content": null,
            "align_items": null,
            "align_self": null,
            "border": null,
            "bottom": null,
            "display": null,
            "flex": null,
            "flex_flow": null,
            "grid_area": null,
            "grid_auto_columns": null,
            "grid_auto_flow": null,
            "grid_auto_rows": null,
            "grid_column": null,
            "grid_gap": null,
            "grid_row": null,
            "grid_template_areas": null,
            "grid_template_columns": null,
            "grid_template_rows": null,
            "height": null,
            "justify_content": null,
            "justify_items": null,
            "left": null,
            "margin": null,
            "max_height": null,
            "max_width": null,
            "min_height": null,
            "min_width": null,
            "object_fit": null,
            "object_position": null,
            "order": null,
            "overflow": null,
            "overflow_x": null,
            "overflow_y": null,
            "padding": null,
            "right": null,
            "top": null,
            "visibility": "hidden",
            "width": null
          }
        },
        "3b88fd3f7d7e45349131d23581b7e15a": {
          "model_module": "@jupyter-widgets/base",
          "model_name": "LayoutModel",
          "model_module_version": "1.2.0",
          "state": {
            "_model_module": "@jupyter-widgets/base",
            "_model_module_version": "1.2.0",
            "_model_name": "LayoutModel",
            "_view_count": null,
            "_view_module": "@jupyter-widgets/base",
            "_view_module_version": "1.2.0",
            "_view_name": "LayoutView",
            "align_content": null,
            "align_items": null,
            "align_self": null,
            "border": null,
            "bottom": null,
            "display": null,
            "flex": null,
            "flex_flow": null,
            "grid_area": null,
            "grid_auto_columns": null,
            "grid_auto_flow": null,
            "grid_auto_rows": null,
            "grid_column": null,
            "grid_gap": null,
            "grid_row": null,
            "grid_template_areas": null,
            "grid_template_columns": null,
            "grid_template_rows": null,
            "height": null,
            "justify_content": null,
            "justify_items": null,
            "left": null,
            "margin": null,
            "max_height": null,
            "max_width": null,
            "min_height": null,
            "min_width": null,
            "object_fit": null,
            "object_position": null,
            "order": null,
            "overflow": null,
            "overflow_x": null,
            "overflow_y": null,
            "padding": null,
            "right": null,
            "top": null,
            "visibility": null,
            "width": null
          }
        },
        "b985e71c88c5496db7e4d07e6e5cfc8e": {
          "model_module": "@jupyter-widgets/controls",
          "model_name": "DescriptionStyleModel",
          "model_module_version": "1.5.0",
          "state": {
            "_model_module": "@jupyter-widgets/controls",
            "_model_module_version": "1.5.0",
            "_model_name": "DescriptionStyleModel",
            "_view_count": null,
            "_view_module": "@jupyter-widgets/base",
            "_view_module_version": "1.2.0",
            "_view_name": "StyleView",
            "description_width": ""
          }
        },
        "c2800072a90a4daeb40b15f75badaa8b": {
          "model_module": "@jupyter-widgets/base",
          "model_name": "LayoutModel",
          "model_module_version": "1.2.0",
          "state": {
            "_model_module": "@jupyter-widgets/base",
            "_model_module_version": "1.2.0",
            "_model_name": "LayoutModel",
            "_view_count": null,
            "_view_module": "@jupyter-widgets/base",
            "_view_module_version": "1.2.0",
            "_view_name": "LayoutView",
            "align_content": null,
            "align_items": null,
            "align_self": null,
            "border": null,
            "bottom": null,
            "display": null,
            "flex": null,
            "flex_flow": null,
            "grid_area": null,
            "grid_auto_columns": null,
            "grid_auto_flow": null,
            "grid_auto_rows": null,
            "grid_column": null,
            "grid_gap": null,
            "grid_row": null,
            "grid_template_areas": null,
            "grid_template_columns": null,
            "grid_template_rows": null,
            "height": null,
            "justify_content": null,
            "justify_items": null,
            "left": null,
            "margin": null,
            "max_height": null,
            "max_width": null,
            "min_height": null,
            "min_width": null,
            "object_fit": null,
            "object_position": null,
            "order": null,
            "overflow": null,
            "overflow_x": null,
            "overflow_y": null,
            "padding": null,
            "right": null,
            "top": null,
            "visibility": null,
            "width": null
          }
        },
        "291f2a3e85f64225913e5c0402c6cc6d": {
          "model_module": "@jupyter-widgets/controls",
          "model_name": "ProgressStyleModel",
          "model_module_version": "1.5.0",
          "state": {
            "_model_module": "@jupyter-widgets/controls",
            "_model_module_version": "1.5.0",
            "_model_name": "ProgressStyleModel",
            "_view_count": null,
            "_view_module": "@jupyter-widgets/base",
            "_view_module_version": "1.2.0",
            "_view_name": "StyleView",
            "bar_color": null,
            "description_width": ""
          }
        },
        "667dc45665224a2bb521280f6c8e7627": {
          "model_module": "@jupyter-widgets/base",
          "model_name": "LayoutModel",
          "model_module_version": "1.2.0",
          "state": {
            "_model_module": "@jupyter-widgets/base",
            "_model_module_version": "1.2.0",
            "_model_name": "LayoutModel",
            "_view_count": null,
            "_view_module": "@jupyter-widgets/base",
            "_view_module_version": "1.2.0",
            "_view_name": "LayoutView",
            "align_content": null,
            "align_items": null,
            "align_self": null,
            "border": null,
            "bottom": null,
            "display": null,
            "flex": null,
            "flex_flow": null,
            "grid_area": null,
            "grid_auto_columns": null,
            "grid_auto_flow": null,
            "grid_auto_rows": null,
            "grid_column": null,
            "grid_gap": null,
            "grid_row": null,
            "grid_template_areas": null,
            "grid_template_columns": null,
            "grid_template_rows": null,
            "height": null,
            "justify_content": null,
            "justify_items": null,
            "left": null,
            "margin": null,
            "max_height": null,
            "max_width": null,
            "min_height": null,
            "min_width": null,
            "object_fit": null,
            "object_position": null,
            "order": null,
            "overflow": null,
            "overflow_x": null,
            "overflow_y": null,
            "padding": null,
            "right": null,
            "top": null,
            "visibility": null,
            "width": null
          }
        },
        "9142576f7440478998cad83ebad9494e": {
          "model_module": "@jupyter-widgets/controls",
          "model_name": "DescriptionStyleModel",
          "model_module_version": "1.5.0",
          "state": {
            "_model_module": "@jupyter-widgets/controls",
            "_model_module_version": "1.5.0",
            "_model_name": "DescriptionStyleModel",
            "_view_count": null,
            "_view_module": "@jupyter-widgets/base",
            "_view_module_version": "1.2.0",
            "_view_name": "StyleView",
            "description_width": ""
          }
        },
        "2018b0e8efac4427bdda38211e8b9cb0": {
          "model_module": "@jupyter-widgets/controls",
          "model_name": "HBoxModel",
          "model_module_version": "1.5.0",
          "state": {
            "_dom_classes": [],
            "_model_module": "@jupyter-widgets/controls",
            "_model_module_version": "1.5.0",
            "_model_name": "HBoxModel",
            "_view_count": null,
            "_view_module": "@jupyter-widgets/controls",
            "_view_module_version": "1.5.0",
            "_view_name": "HBoxView",
            "box_style": "",
            "children": [
              "IPY_MODEL_8f9235a74d2d442da4c9d935e7a55628",
              "IPY_MODEL_e21df525fa7b414d94fcc6b75c3ff1c9",
              "IPY_MODEL_acf0cd17c2104c838bebe7579a9f89be"
            ],
            "layout": "IPY_MODEL_8377ed22eeab4310b4668f23f469e27f"
          }
        },
        "8f9235a74d2d442da4c9d935e7a55628": {
          "model_module": "@jupyter-widgets/controls",
          "model_name": "HTMLModel",
          "model_module_version": "1.5.0",
          "state": {
            "_dom_classes": [],
            "_model_module": "@jupyter-widgets/controls",
            "_model_module_version": "1.5.0",
            "_model_name": "HTMLModel",
            "_view_count": null,
            "_view_module": "@jupyter-widgets/controls",
            "_view_module_version": "1.5.0",
            "_view_name": "HTMLView",
            "description": "",
            "description_tooltip": null,
            "layout": "IPY_MODEL_e04a511a98ab4c5691ce55c2badb9cb8",
            "placeholder": "​",
            "style": "IPY_MODEL_d2f8224f523e4aa58564352efd1eb838",
            "value": "Generating train examples...: 100%"
          }
        },
        "e21df525fa7b414d94fcc6b75c3ff1c9": {
          "model_module": "@jupyter-widgets/controls",
          "model_name": "FloatProgressModel",
          "model_module_version": "1.5.0",
          "state": {
            "_dom_classes": [],
            "_model_module": "@jupyter-widgets/controls",
            "_model_module_version": "1.5.0",
            "_model_name": "FloatProgressModel",
            "_view_count": null,
            "_view_module": "@jupyter-widgets/controls",
            "_view_module_version": "1.5.0",
            "_view_name": "ProgressView",
            "bar_style": "",
            "description": "",
            "description_tooltip": null,
            "layout": "IPY_MODEL_68d348c1f59f49f0b18d1af794415a85",
            "max": 25000,
            "min": 0,
            "orientation": "horizontal",
            "style": "IPY_MODEL_19f4889ad0f34137be7dbf469880e396",
            "value": 25000
          }
        },
        "acf0cd17c2104c838bebe7579a9f89be": {
          "model_module": "@jupyter-widgets/controls",
          "model_name": "HTMLModel",
          "model_module_version": "1.5.0",
          "state": {
            "_dom_classes": [],
            "_model_module": "@jupyter-widgets/controls",
            "_model_module_version": "1.5.0",
            "_model_name": "HTMLModel",
            "_view_count": null,
            "_view_module": "@jupyter-widgets/controls",
            "_view_module_version": "1.5.0",
            "_view_name": "HTMLView",
            "description": "",
            "description_tooltip": null,
            "layout": "IPY_MODEL_32425d3434f04bacb23c85bdf55081b7",
            "placeholder": "​",
            "style": "IPY_MODEL_27c5e9bca02c49fa9d70055107f4534c",
            "value": " 24926/25000 [00:09&lt;00:00, 3965.12 examples/s]"
          }
        },
        "8377ed22eeab4310b4668f23f469e27f": {
          "model_module": "@jupyter-widgets/base",
          "model_name": "LayoutModel",
          "model_module_version": "1.2.0",
          "state": {
            "_model_module": "@jupyter-widgets/base",
            "_model_module_version": "1.2.0",
            "_model_name": "LayoutModel",
            "_view_count": null,
            "_view_module": "@jupyter-widgets/base",
            "_view_module_version": "1.2.0",
            "_view_name": "LayoutView",
            "align_content": null,
            "align_items": null,
            "align_self": null,
            "border": null,
            "bottom": null,
            "display": null,
            "flex": null,
            "flex_flow": null,
            "grid_area": null,
            "grid_auto_columns": null,
            "grid_auto_flow": null,
            "grid_auto_rows": null,
            "grid_column": null,
            "grid_gap": null,
            "grid_row": null,
            "grid_template_areas": null,
            "grid_template_columns": null,
            "grid_template_rows": null,
            "height": null,
            "justify_content": null,
            "justify_items": null,
            "left": null,
            "margin": null,
            "max_height": null,
            "max_width": null,
            "min_height": null,
            "min_width": null,
            "object_fit": null,
            "object_position": null,
            "order": null,
            "overflow": null,
            "overflow_x": null,
            "overflow_y": null,
            "padding": null,
            "right": null,
            "top": null,
            "visibility": "hidden",
            "width": null
          }
        },
        "e04a511a98ab4c5691ce55c2badb9cb8": {
          "model_module": "@jupyter-widgets/base",
          "model_name": "LayoutModel",
          "model_module_version": "1.2.0",
          "state": {
            "_model_module": "@jupyter-widgets/base",
            "_model_module_version": "1.2.0",
            "_model_name": "LayoutModel",
            "_view_count": null,
            "_view_module": "@jupyter-widgets/base",
            "_view_module_version": "1.2.0",
            "_view_name": "LayoutView",
            "align_content": null,
            "align_items": null,
            "align_self": null,
            "border": null,
            "bottom": null,
            "display": null,
            "flex": null,
            "flex_flow": null,
            "grid_area": null,
            "grid_auto_columns": null,
            "grid_auto_flow": null,
            "grid_auto_rows": null,
            "grid_column": null,
            "grid_gap": null,
            "grid_row": null,
            "grid_template_areas": null,
            "grid_template_columns": null,
            "grid_template_rows": null,
            "height": null,
            "justify_content": null,
            "justify_items": null,
            "left": null,
            "margin": null,
            "max_height": null,
            "max_width": null,
            "min_height": null,
            "min_width": null,
            "object_fit": null,
            "object_position": null,
            "order": null,
            "overflow": null,
            "overflow_x": null,
            "overflow_y": null,
            "padding": null,
            "right": null,
            "top": null,
            "visibility": null,
            "width": null
          }
        },
        "d2f8224f523e4aa58564352efd1eb838": {
          "model_module": "@jupyter-widgets/controls",
          "model_name": "DescriptionStyleModel",
          "model_module_version": "1.5.0",
          "state": {
            "_model_module": "@jupyter-widgets/controls",
            "_model_module_version": "1.5.0",
            "_model_name": "DescriptionStyleModel",
            "_view_count": null,
            "_view_module": "@jupyter-widgets/base",
            "_view_module_version": "1.2.0",
            "_view_name": "StyleView",
            "description_width": ""
          }
        },
        "68d348c1f59f49f0b18d1af794415a85": {
          "model_module": "@jupyter-widgets/base",
          "model_name": "LayoutModel",
          "model_module_version": "1.2.0",
          "state": {
            "_model_module": "@jupyter-widgets/base",
            "_model_module_version": "1.2.0",
            "_model_name": "LayoutModel",
            "_view_count": null,
            "_view_module": "@jupyter-widgets/base",
            "_view_module_version": "1.2.0",
            "_view_name": "LayoutView",
            "align_content": null,
            "align_items": null,
            "align_self": null,
            "border": null,
            "bottom": null,
            "display": null,
            "flex": null,
            "flex_flow": null,
            "grid_area": null,
            "grid_auto_columns": null,
            "grid_auto_flow": null,
            "grid_auto_rows": null,
            "grid_column": null,
            "grid_gap": null,
            "grid_row": null,
            "grid_template_areas": null,
            "grid_template_columns": null,
            "grid_template_rows": null,
            "height": null,
            "justify_content": null,
            "justify_items": null,
            "left": null,
            "margin": null,
            "max_height": null,
            "max_width": null,
            "min_height": null,
            "min_width": null,
            "object_fit": null,
            "object_position": null,
            "order": null,
            "overflow": null,
            "overflow_x": null,
            "overflow_y": null,
            "padding": null,
            "right": null,
            "top": null,
            "visibility": null,
            "width": null
          }
        },
        "19f4889ad0f34137be7dbf469880e396": {
          "model_module": "@jupyter-widgets/controls",
          "model_name": "ProgressStyleModel",
          "model_module_version": "1.5.0",
          "state": {
            "_model_module": "@jupyter-widgets/controls",
            "_model_module_version": "1.5.0",
            "_model_name": "ProgressStyleModel",
            "_view_count": null,
            "_view_module": "@jupyter-widgets/base",
            "_view_module_version": "1.2.0",
            "_view_name": "StyleView",
            "bar_color": null,
            "description_width": ""
          }
        },
        "32425d3434f04bacb23c85bdf55081b7": {
          "model_module": "@jupyter-widgets/base",
          "model_name": "LayoutModel",
          "model_module_version": "1.2.0",
          "state": {
            "_model_module": "@jupyter-widgets/base",
            "_model_module_version": "1.2.0",
            "_model_name": "LayoutModel",
            "_view_count": null,
            "_view_module": "@jupyter-widgets/base",
            "_view_module_version": "1.2.0",
            "_view_name": "LayoutView",
            "align_content": null,
            "align_items": null,
            "align_self": null,
            "border": null,
            "bottom": null,
            "display": null,
            "flex": null,
            "flex_flow": null,
            "grid_area": null,
            "grid_auto_columns": null,
            "grid_auto_flow": null,
            "grid_auto_rows": null,
            "grid_column": null,
            "grid_gap": null,
            "grid_row": null,
            "grid_template_areas": null,
            "grid_template_columns": null,
            "grid_template_rows": null,
            "height": null,
            "justify_content": null,
            "justify_items": null,
            "left": null,
            "margin": null,
            "max_height": null,
            "max_width": null,
            "min_height": null,
            "min_width": null,
            "object_fit": null,
            "object_position": null,
            "order": null,
            "overflow": null,
            "overflow_x": null,
            "overflow_y": null,
            "padding": null,
            "right": null,
            "top": null,
            "visibility": null,
            "width": null
          }
        },
        "27c5e9bca02c49fa9d70055107f4534c": {
          "model_module": "@jupyter-widgets/controls",
          "model_name": "DescriptionStyleModel",
          "model_module_version": "1.5.0",
          "state": {
            "_model_module": "@jupyter-widgets/controls",
            "_model_module_version": "1.5.0",
            "_model_name": "DescriptionStyleModel",
            "_view_count": null,
            "_view_module": "@jupyter-widgets/base",
            "_view_module_version": "1.2.0",
            "_view_name": "StyleView",
            "description_width": ""
          }
        },
        "fdbee8410e024e219c535e5bfb668cb2": {
          "model_module": "@jupyter-widgets/controls",
          "model_name": "HBoxModel",
          "model_module_version": "1.5.0",
          "state": {
            "_dom_classes": [],
            "_model_module": "@jupyter-widgets/controls",
            "_model_module_version": "1.5.0",
            "_model_name": "HBoxModel",
            "_view_count": null,
            "_view_module": "@jupyter-widgets/controls",
            "_view_module_version": "1.5.0",
            "_view_name": "HBoxView",
            "box_style": "",
            "children": [
              "IPY_MODEL_472fdf0d815443ca89f64e8a14659baa",
              "IPY_MODEL_fa785b8f45404db793f53e2ad931af5d",
              "IPY_MODEL_b8119a81f2b44415bf47e565203babd1"
            ],
            "layout": "IPY_MODEL_c2a17c9a3ce54e5bbcdb238b14dbefdb"
          }
        },
        "472fdf0d815443ca89f64e8a14659baa": {
          "model_module": "@jupyter-widgets/controls",
          "model_name": "HTMLModel",
          "model_module_version": "1.5.0",
          "state": {
            "_dom_classes": [],
            "_model_module": "@jupyter-widgets/controls",
            "_model_module_version": "1.5.0",
            "_model_name": "HTMLModel",
            "_view_count": null,
            "_view_module": "@jupyter-widgets/controls",
            "_view_module_version": "1.5.0",
            "_view_name": "HTMLView",
            "description": "",
            "description_tooltip": null,
            "layout": "IPY_MODEL_92c9b03d6cf54833a1978bd5fba42394",
            "placeholder": "​",
            "style": "IPY_MODEL_bbdbdf7113de44688bfa3e7bb67006c7",
            "value": "Shuffling /root/tensorflow_datasets/imdb_reviews/plain_text/1.0.0.incompleteWURWJU/imdb_reviews-train.tfrecord*...:  72%"
          }
        },
        "fa785b8f45404db793f53e2ad931af5d": {
          "model_module": "@jupyter-widgets/controls",
          "model_name": "FloatProgressModel",
          "model_module_version": "1.5.0",
          "state": {
            "_dom_classes": [],
            "_model_module": "@jupyter-widgets/controls",
            "_model_module_version": "1.5.0",
            "_model_name": "FloatProgressModel",
            "_view_count": null,
            "_view_module": "@jupyter-widgets/controls",
            "_view_module_version": "1.5.0",
            "_view_name": "ProgressView",
            "bar_style": "",
            "description": "",
            "description_tooltip": null,
            "layout": "IPY_MODEL_edca449506bf4f139ecb6cc2b01c644b",
            "max": 25000,
            "min": 0,
            "orientation": "horizontal",
            "style": "IPY_MODEL_1b62964b69424529a4efa51a8030ba9c",
            "value": 25000
          }
        },
        "b8119a81f2b44415bf47e565203babd1": {
          "model_module": "@jupyter-widgets/controls",
          "model_name": "HTMLModel",
          "model_module_version": "1.5.0",
          "state": {
            "_dom_classes": [],
            "_model_module": "@jupyter-widgets/controls",
            "_model_module_version": "1.5.0",
            "_model_name": "HTMLModel",
            "_view_count": null,
            "_view_module": "@jupyter-widgets/controls",
            "_view_module_version": "1.5.0",
            "_view_name": "HTMLView",
            "description": "",
            "description_tooltip": null,
            "layout": "IPY_MODEL_c7f4882627fd4d93b824e4e9f612b58f",
            "placeholder": "​",
            "style": "IPY_MODEL_ba202176cb4a4f959270fd31f762ce39",
            "value": " 18090/25000 [00:00&lt;00:00, 98849.89 examples/s]"
          }
        },
        "c2a17c9a3ce54e5bbcdb238b14dbefdb": {
          "model_module": "@jupyter-widgets/base",
          "model_name": "LayoutModel",
          "model_module_version": "1.2.0",
          "state": {
            "_model_module": "@jupyter-widgets/base",
            "_model_module_version": "1.2.0",
            "_model_name": "LayoutModel",
            "_view_count": null,
            "_view_module": "@jupyter-widgets/base",
            "_view_module_version": "1.2.0",
            "_view_name": "LayoutView",
            "align_content": null,
            "align_items": null,
            "align_self": null,
            "border": null,
            "bottom": null,
            "display": null,
            "flex": null,
            "flex_flow": null,
            "grid_area": null,
            "grid_auto_columns": null,
            "grid_auto_flow": null,
            "grid_auto_rows": null,
            "grid_column": null,
            "grid_gap": null,
            "grid_row": null,
            "grid_template_areas": null,
            "grid_template_columns": null,
            "grid_template_rows": null,
            "height": null,
            "justify_content": null,
            "justify_items": null,
            "left": null,
            "margin": null,
            "max_height": null,
            "max_width": null,
            "min_height": null,
            "min_width": null,
            "object_fit": null,
            "object_position": null,
            "order": null,
            "overflow": null,
            "overflow_x": null,
            "overflow_y": null,
            "padding": null,
            "right": null,
            "top": null,
            "visibility": "hidden",
            "width": null
          }
        },
        "92c9b03d6cf54833a1978bd5fba42394": {
          "model_module": "@jupyter-widgets/base",
          "model_name": "LayoutModel",
          "model_module_version": "1.2.0",
          "state": {
            "_model_module": "@jupyter-widgets/base",
            "_model_module_version": "1.2.0",
            "_model_name": "LayoutModel",
            "_view_count": null,
            "_view_module": "@jupyter-widgets/base",
            "_view_module_version": "1.2.0",
            "_view_name": "LayoutView",
            "align_content": null,
            "align_items": null,
            "align_self": null,
            "border": null,
            "bottom": null,
            "display": null,
            "flex": null,
            "flex_flow": null,
            "grid_area": null,
            "grid_auto_columns": null,
            "grid_auto_flow": null,
            "grid_auto_rows": null,
            "grid_column": null,
            "grid_gap": null,
            "grid_row": null,
            "grid_template_areas": null,
            "grid_template_columns": null,
            "grid_template_rows": null,
            "height": null,
            "justify_content": null,
            "justify_items": null,
            "left": null,
            "margin": null,
            "max_height": null,
            "max_width": null,
            "min_height": null,
            "min_width": null,
            "object_fit": null,
            "object_position": null,
            "order": null,
            "overflow": null,
            "overflow_x": null,
            "overflow_y": null,
            "padding": null,
            "right": null,
            "top": null,
            "visibility": null,
            "width": null
          }
        },
        "bbdbdf7113de44688bfa3e7bb67006c7": {
          "model_module": "@jupyter-widgets/controls",
          "model_name": "DescriptionStyleModel",
          "model_module_version": "1.5.0",
          "state": {
            "_model_module": "@jupyter-widgets/controls",
            "_model_module_version": "1.5.0",
            "_model_name": "DescriptionStyleModel",
            "_view_count": null,
            "_view_module": "@jupyter-widgets/base",
            "_view_module_version": "1.2.0",
            "_view_name": "StyleView",
            "description_width": ""
          }
        },
        "edca449506bf4f139ecb6cc2b01c644b": {
          "model_module": "@jupyter-widgets/base",
          "model_name": "LayoutModel",
          "model_module_version": "1.2.0",
          "state": {
            "_model_module": "@jupyter-widgets/base",
            "_model_module_version": "1.2.0",
            "_model_name": "LayoutModel",
            "_view_count": null,
            "_view_module": "@jupyter-widgets/base",
            "_view_module_version": "1.2.0",
            "_view_name": "LayoutView",
            "align_content": null,
            "align_items": null,
            "align_self": null,
            "border": null,
            "bottom": null,
            "display": null,
            "flex": null,
            "flex_flow": null,
            "grid_area": null,
            "grid_auto_columns": null,
            "grid_auto_flow": null,
            "grid_auto_rows": null,
            "grid_column": null,
            "grid_gap": null,
            "grid_row": null,
            "grid_template_areas": null,
            "grid_template_columns": null,
            "grid_template_rows": null,
            "height": null,
            "justify_content": null,
            "justify_items": null,
            "left": null,
            "margin": null,
            "max_height": null,
            "max_width": null,
            "min_height": null,
            "min_width": null,
            "object_fit": null,
            "object_position": null,
            "order": null,
            "overflow": null,
            "overflow_x": null,
            "overflow_y": null,
            "padding": null,
            "right": null,
            "top": null,
            "visibility": null,
            "width": null
          }
        },
        "1b62964b69424529a4efa51a8030ba9c": {
          "model_module": "@jupyter-widgets/controls",
          "model_name": "ProgressStyleModel",
          "model_module_version": "1.5.0",
          "state": {
            "_model_module": "@jupyter-widgets/controls",
            "_model_module_version": "1.5.0",
            "_model_name": "ProgressStyleModel",
            "_view_count": null,
            "_view_module": "@jupyter-widgets/base",
            "_view_module_version": "1.2.0",
            "_view_name": "StyleView",
            "bar_color": null,
            "description_width": ""
          }
        },
        "c7f4882627fd4d93b824e4e9f612b58f": {
          "model_module": "@jupyter-widgets/base",
          "model_name": "LayoutModel",
          "model_module_version": "1.2.0",
          "state": {
            "_model_module": "@jupyter-widgets/base",
            "_model_module_version": "1.2.0",
            "_model_name": "LayoutModel",
            "_view_count": null,
            "_view_module": "@jupyter-widgets/base",
            "_view_module_version": "1.2.0",
            "_view_name": "LayoutView",
            "align_content": null,
            "align_items": null,
            "align_self": null,
            "border": null,
            "bottom": null,
            "display": null,
            "flex": null,
            "flex_flow": null,
            "grid_area": null,
            "grid_auto_columns": null,
            "grid_auto_flow": null,
            "grid_auto_rows": null,
            "grid_column": null,
            "grid_gap": null,
            "grid_row": null,
            "grid_template_areas": null,
            "grid_template_columns": null,
            "grid_template_rows": null,
            "height": null,
            "justify_content": null,
            "justify_items": null,
            "left": null,
            "margin": null,
            "max_height": null,
            "max_width": null,
            "min_height": null,
            "min_width": null,
            "object_fit": null,
            "object_position": null,
            "order": null,
            "overflow": null,
            "overflow_x": null,
            "overflow_y": null,
            "padding": null,
            "right": null,
            "top": null,
            "visibility": null,
            "width": null
          }
        },
        "ba202176cb4a4f959270fd31f762ce39": {
          "model_module": "@jupyter-widgets/controls",
          "model_name": "DescriptionStyleModel",
          "model_module_version": "1.5.0",
          "state": {
            "_model_module": "@jupyter-widgets/controls",
            "_model_module_version": "1.5.0",
            "_model_name": "DescriptionStyleModel",
            "_view_count": null,
            "_view_module": "@jupyter-widgets/base",
            "_view_module_version": "1.2.0",
            "_view_name": "StyleView",
            "description_width": ""
          }
        },
        "62e109a92b964327957e75fea3112c95": {
          "model_module": "@jupyter-widgets/controls",
          "model_name": "HBoxModel",
          "model_module_version": "1.5.0",
          "state": {
            "_dom_classes": [],
            "_model_module": "@jupyter-widgets/controls",
            "_model_module_version": "1.5.0",
            "_model_name": "HBoxModel",
            "_view_count": null,
            "_view_module": "@jupyter-widgets/controls",
            "_view_module_version": "1.5.0",
            "_view_name": "HBoxView",
            "box_style": "",
            "children": [
              "IPY_MODEL_d06af159f8b84d2687b2cf23a49e305f",
              "IPY_MODEL_1ae14aa72de640d9b13fed9e85819059",
              "IPY_MODEL_969fbba716a647ed8c534c9ef95f4780"
            ],
            "layout": "IPY_MODEL_a168713c1ad74b968fe93d94db19a08e"
          }
        },
        "d06af159f8b84d2687b2cf23a49e305f": {
          "model_module": "@jupyter-widgets/controls",
          "model_name": "HTMLModel",
          "model_module_version": "1.5.0",
          "state": {
            "_dom_classes": [],
            "_model_module": "@jupyter-widgets/controls",
            "_model_module_version": "1.5.0",
            "_model_name": "HTMLModel",
            "_view_count": null,
            "_view_module": "@jupyter-widgets/controls",
            "_view_module_version": "1.5.0",
            "_view_name": "HTMLView",
            "description": "",
            "description_tooltip": null,
            "layout": "IPY_MODEL_698ac60609894ebfa0ce34cd74d07688",
            "placeholder": "​",
            "style": "IPY_MODEL_d09ada64affa413a9de49535846b0371",
            "value": "Generating test examples...:  99%"
          }
        },
        "1ae14aa72de640d9b13fed9e85819059": {
          "model_module": "@jupyter-widgets/controls",
          "model_name": "FloatProgressModel",
          "model_module_version": "1.5.0",
          "state": {
            "_dom_classes": [],
            "_model_module": "@jupyter-widgets/controls",
            "_model_module_version": "1.5.0",
            "_model_name": "FloatProgressModel",
            "_view_count": null,
            "_view_module": "@jupyter-widgets/controls",
            "_view_module_version": "1.5.0",
            "_view_name": "ProgressView",
            "bar_style": "",
            "description": "",
            "description_tooltip": null,
            "layout": "IPY_MODEL_c4c71c6798974b7db044f25abb84b89c",
            "max": 25000,
            "min": 0,
            "orientation": "horizontal",
            "style": "IPY_MODEL_8cb74370eb9a4fd1a12e8c7d93d03a5d",
            "value": 25000
          }
        },
        "969fbba716a647ed8c534c9ef95f4780": {
          "model_module": "@jupyter-widgets/controls",
          "model_name": "HTMLModel",
          "model_module_version": "1.5.0",
          "state": {
            "_dom_classes": [],
            "_model_module": "@jupyter-widgets/controls",
            "_model_module_version": "1.5.0",
            "_model_name": "HTMLModel",
            "_view_count": null,
            "_view_module": "@jupyter-widgets/controls",
            "_view_module_version": "1.5.0",
            "_view_name": "HTMLView",
            "description": "",
            "description_tooltip": null,
            "layout": "IPY_MODEL_04b3eed019824d49b4b67ab6ec28aa1b",
            "placeholder": "​",
            "style": "IPY_MODEL_6eef3dadd706467e95000afbe150b8ea",
            "value": " 24649/25000 [00:07&lt;00:00, 4071.88 examples/s]"
          }
        },
        "a168713c1ad74b968fe93d94db19a08e": {
          "model_module": "@jupyter-widgets/base",
          "model_name": "LayoutModel",
          "model_module_version": "1.2.0",
          "state": {
            "_model_module": "@jupyter-widgets/base",
            "_model_module_version": "1.2.0",
            "_model_name": "LayoutModel",
            "_view_count": null,
            "_view_module": "@jupyter-widgets/base",
            "_view_module_version": "1.2.0",
            "_view_name": "LayoutView",
            "align_content": null,
            "align_items": null,
            "align_self": null,
            "border": null,
            "bottom": null,
            "display": null,
            "flex": null,
            "flex_flow": null,
            "grid_area": null,
            "grid_auto_columns": null,
            "grid_auto_flow": null,
            "grid_auto_rows": null,
            "grid_column": null,
            "grid_gap": null,
            "grid_row": null,
            "grid_template_areas": null,
            "grid_template_columns": null,
            "grid_template_rows": null,
            "height": null,
            "justify_content": null,
            "justify_items": null,
            "left": null,
            "margin": null,
            "max_height": null,
            "max_width": null,
            "min_height": null,
            "min_width": null,
            "object_fit": null,
            "object_position": null,
            "order": null,
            "overflow": null,
            "overflow_x": null,
            "overflow_y": null,
            "padding": null,
            "right": null,
            "top": null,
            "visibility": "hidden",
            "width": null
          }
        },
        "698ac60609894ebfa0ce34cd74d07688": {
          "model_module": "@jupyter-widgets/base",
          "model_name": "LayoutModel",
          "model_module_version": "1.2.0",
          "state": {
            "_model_module": "@jupyter-widgets/base",
            "_model_module_version": "1.2.0",
            "_model_name": "LayoutModel",
            "_view_count": null,
            "_view_module": "@jupyter-widgets/base",
            "_view_module_version": "1.2.0",
            "_view_name": "LayoutView",
            "align_content": null,
            "align_items": null,
            "align_self": null,
            "border": null,
            "bottom": null,
            "display": null,
            "flex": null,
            "flex_flow": null,
            "grid_area": null,
            "grid_auto_columns": null,
            "grid_auto_flow": null,
            "grid_auto_rows": null,
            "grid_column": null,
            "grid_gap": null,
            "grid_row": null,
            "grid_template_areas": null,
            "grid_template_columns": null,
            "grid_template_rows": null,
            "height": null,
            "justify_content": null,
            "justify_items": null,
            "left": null,
            "margin": null,
            "max_height": null,
            "max_width": null,
            "min_height": null,
            "min_width": null,
            "object_fit": null,
            "object_position": null,
            "order": null,
            "overflow": null,
            "overflow_x": null,
            "overflow_y": null,
            "padding": null,
            "right": null,
            "top": null,
            "visibility": null,
            "width": null
          }
        },
        "d09ada64affa413a9de49535846b0371": {
          "model_module": "@jupyter-widgets/controls",
          "model_name": "DescriptionStyleModel",
          "model_module_version": "1.5.0",
          "state": {
            "_model_module": "@jupyter-widgets/controls",
            "_model_module_version": "1.5.0",
            "_model_name": "DescriptionStyleModel",
            "_view_count": null,
            "_view_module": "@jupyter-widgets/base",
            "_view_module_version": "1.2.0",
            "_view_name": "StyleView",
            "description_width": ""
          }
        },
        "c4c71c6798974b7db044f25abb84b89c": {
          "model_module": "@jupyter-widgets/base",
          "model_name": "LayoutModel",
          "model_module_version": "1.2.0",
          "state": {
            "_model_module": "@jupyter-widgets/base",
            "_model_module_version": "1.2.0",
            "_model_name": "LayoutModel",
            "_view_count": null,
            "_view_module": "@jupyter-widgets/base",
            "_view_module_version": "1.2.0",
            "_view_name": "LayoutView",
            "align_content": null,
            "align_items": null,
            "align_self": null,
            "border": null,
            "bottom": null,
            "display": null,
            "flex": null,
            "flex_flow": null,
            "grid_area": null,
            "grid_auto_columns": null,
            "grid_auto_flow": null,
            "grid_auto_rows": null,
            "grid_column": null,
            "grid_gap": null,
            "grid_row": null,
            "grid_template_areas": null,
            "grid_template_columns": null,
            "grid_template_rows": null,
            "height": null,
            "justify_content": null,
            "justify_items": null,
            "left": null,
            "margin": null,
            "max_height": null,
            "max_width": null,
            "min_height": null,
            "min_width": null,
            "object_fit": null,
            "object_position": null,
            "order": null,
            "overflow": null,
            "overflow_x": null,
            "overflow_y": null,
            "padding": null,
            "right": null,
            "top": null,
            "visibility": null,
            "width": null
          }
        },
        "8cb74370eb9a4fd1a12e8c7d93d03a5d": {
          "model_module": "@jupyter-widgets/controls",
          "model_name": "ProgressStyleModel",
          "model_module_version": "1.5.0",
          "state": {
            "_model_module": "@jupyter-widgets/controls",
            "_model_module_version": "1.5.0",
            "_model_name": "ProgressStyleModel",
            "_view_count": null,
            "_view_module": "@jupyter-widgets/base",
            "_view_module_version": "1.2.0",
            "_view_name": "StyleView",
            "bar_color": null,
            "description_width": ""
          }
        },
        "04b3eed019824d49b4b67ab6ec28aa1b": {
          "model_module": "@jupyter-widgets/base",
          "model_name": "LayoutModel",
          "model_module_version": "1.2.0",
          "state": {
            "_model_module": "@jupyter-widgets/base",
            "_model_module_version": "1.2.0",
            "_model_name": "LayoutModel",
            "_view_count": null,
            "_view_module": "@jupyter-widgets/base",
            "_view_module_version": "1.2.0",
            "_view_name": "LayoutView",
            "align_content": null,
            "align_items": null,
            "align_self": null,
            "border": null,
            "bottom": null,
            "display": null,
            "flex": null,
            "flex_flow": null,
            "grid_area": null,
            "grid_auto_columns": null,
            "grid_auto_flow": null,
            "grid_auto_rows": null,
            "grid_column": null,
            "grid_gap": null,
            "grid_row": null,
            "grid_template_areas": null,
            "grid_template_columns": null,
            "grid_template_rows": null,
            "height": null,
            "justify_content": null,
            "justify_items": null,
            "left": null,
            "margin": null,
            "max_height": null,
            "max_width": null,
            "min_height": null,
            "min_width": null,
            "object_fit": null,
            "object_position": null,
            "order": null,
            "overflow": null,
            "overflow_x": null,
            "overflow_y": null,
            "padding": null,
            "right": null,
            "top": null,
            "visibility": null,
            "width": null
          }
        },
        "6eef3dadd706467e95000afbe150b8ea": {
          "model_module": "@jupyter-widgets/controls",
          "model_name": "DescriptionStyleModel",
          "model_module_version": "1.5.0",
          "state": {
            "_model_module": "@jupyter-widgets/controls",
            "_model_module_version": "1.5.0",
            "_model_name": "DescriptionStyleModel",
            "_view_count": null,
            "_view_module": "@jupyter-widgets/base",
            "_view_module_version": "1.2.0",
            "_view_name": "StyleView",
            "description_width": ""
          }
        },
        "bcd04db46fbd408daa1d380cb217c112": {
          "model_module": "@jupyter-widgets/controls",
          "model_name": "HBoxModel",
          "model_module_version": "1.5.0",
          "state": {
            "_dom_classes": [],
            "_model_module": "@jupyter-widgets/controls",
            "_model_module_version": "1.5.0",
            "_model_name": "HBoxModel",
            "_view_count": null,
            "_view_module": "@jupyter-widgets/controls",
            "_view_module_version": "1.5.0",
            "_view_name": "HBoxView",
            "box_style": "",
            "children": [
              "IPY_MODEL_ad02006e76bf41b6bc5db7a302128e56",
              "IPY_MODEL_f59f2b78e849474e8a9a62b3a44b85d6",
              "IPY_MODEL_8e4a754ec4a546e1a0f0ce92f7c9c9a1"
            ],
            "layout": "IPY_MODEL_e81a7b58f8584253b31eda518cd7f845"
          }
        },
        "ad02006e76bf41b6bc5db7a302128e56": {
          "model_module": "@jupyter-widgets/controls",
          "model_name": "HTMLModel",
          "model_module_version": "1.5.0",
          "state": {
            "_dom_classes": [],
            "_model_module": "@jupyter-widgets/controls",
            "_model_module_version": "1.5.0",
            "_model_name": "HTMLModel",
            "_view_count": null,
            "_view_module": "@jupyter-widgets/controls",
            "_view_module_version": "1.5.0",
            "_view_name": "HTMLView",
            "description": "",
            "description_tooltip": null,
            "layout": "IPY_MODEL_712ace4b4c4440f6a374a4434a53e449",
            "placeholder": "​",
            "style": "IPY_MODEL_38ca0ff6e26d464ab08ad497f52b395e",
            "value": "Shuffling /root/tensorflow_datasets/imdb_reviews/plain_text/1.0.0.incompleteWURWJU/imdb_reviews-test.tfrecord*...:  74%"
          }
        },
        "f59f2b78e849474e8a9a62b3a44b85d6": {
          "model_module": "@jupyter-widgets/controls",
          "model_name": "FloatProgressModel",
          "model_module_version": "1.5.0",
          "state": {
            "_dom_classes": [],
            "_model_module": "@jupyter-widgets/controls",
            "_model_module_version": "1.5.0",
            "_model_name": "FloatProgressModel",
            "_view_count": null,
            "_view_module": "@jupyter-widgets/controls",
            "_view_module_version": "1.5.0",
            "_view_name": "ProgressView",
            "bar_style": "",
            "description": "",
            "description_tooltip": null,
            "layout": "IPY_MODEL_2e58fa699bd743c6810cc95b53f90f86",
            "max": 25000,
            "min": 0,
            "orientation": "horizontal",
            "style": "IPY_MODEL_8b322cae1d424451b0399be06471e6d0",
            "value": 25000
          }
        },
        "8e4a754ec4a546e1a0f0ce92f7c9c9a1": {
          "model_module": "@jupyter-widgets/controls",
          "model_name": "HTMLModel",
          "model_module_version": "1.5.0",
          "state": {
            "_dom_classes": [],
            "_model_module": "@jupyter-widgets/controls",
            "_model_module_version": "1.5.0",
            "_model_name": "HTMLModel",
            "_view_count": null,
            "_view_module": "@jupyter-widgets/controls",
            "_view_module_version": "1.5.0",
            "_view_name": "HTMLView",
            "description": "",
            "description_tooltip": null,
            "layout": "IPY_MODEL_c3bfbc63b6ad4c9eafb587bbbc998aaf",
            "placeholder": "​",
            "style": "IPY_MODEL_42e28c9957ea4a0f9bbe2e4d5444bc8e",
            "value": " 18598/25000 [00:00&lt;00:00, 102929.52 examples/s]"
          }
        },
        "e81a7b58f8584253b31eda518cd7f845": {
          "model_module": "@jupyter-widgets/base",
          "model_name": "LayoutModel",
          "model_module_version": "1.2.0",
          "state": {
            "_model_module": "@jupyter-widgets/base",
            "_model_module_version": "1.2.0",
            "_model_name": "LayoutModel",
            "_view_count": null,
            "_view_module": "@jupyter-widgets/base",
            "_view_module_version": "1.2.0",
            "_view_name": "LayoutView",
            "align_content": null,
            "align_items": null,
            "align_self": null,
            "border": null,
            "bottom": null,
            "display": null,
            "flex": null,
            "flex_flow": null,
            "grid_area": null,
            "grid_auto_columns": null,
            "grid_auto_flow": null,
            "grid_auto_rows": null,
            "grid_column": null,
            "grid_gap": null,
            "grid_row": null,
            "grid_template_areas": null,
            "grid_template_columns": null,
            "grid_template_rows": null,
            "height": null,
            "justify_content": null,
            "justify_items": null,
            "left": null,
            "margin": null,
            "max_height": null,
            "max_width": null,
            "min_height": null,
            "min_width": null,
            "object_fit": null,
            "object_position": null,
            "order": null,
            "overflow": null,
            "overflow_x": null,
            "overflow_y": null,
            "padding": null,
            "right": null,
            "top": null,
            "visibility": "hidden",
            "width": null
          }
        },
        "712ace4b4c4440f6a374a4434a53e449": {
          "model_module": "@jupyter-widgets/base",
          "model_name": "LayoutModel",
          "model_module_version": "1.2.0",
          "state": {
            "_model_module": "@jupyter-widgets/base",
            "_model_module_version": "1.2.0",
            "_model_name": "LayoutModel",
            "_view_count": null,
            "_view_module": "@jupyter-widgets/base",
            "_view_module_version": "1.2.0",
            "_view_name": "LayoutView",
            "align_content": null,
            "align_items": null,
            "align_self": null,
            "border": null,
            "bottom": null,
            "display": null,
            "flex": null,
            "flex_flow": null,
            "grid_area": null,
            "grid_auto_columns": null,
            "grid_auto_flow": null,
            "grid_auto_rows": null,
            "grid_column": null,
            "grid_gap": null,
            "grid_row": null,
            "grid_template_areas": null,
            "grid_template_columns": null,
            "grid_template_rows": null,
            "height": null,
            "justify_content": null,
            "justify_items": null,
            "left": null,
            "margin": null,
            "max_height": null,
            "max_width": null,
            "min_height": null,
            "min_width": null,
            "object_fit": null,
            "object_position": null,
            "order": null,
            "overflow": null,
            "overflow_x": null,
            "overflow_y": null,
            "padding": null,
            "right": null,
            "top": null,
            "visibility": null,
            "width": null
          }
        },
        "38ca0ff6e26d464ab08ad497f52b395e": {
          "model_module": "@jupyter-widgets/controls",
          "model_name": "DescriptionStyleModel",
          "model_module_version": "1.5.0",
          "state": {
            "_model_module": "@jupyter-widgets/controls",
            "_model_module_version": "1.5.0",
            "_model_name": "DescriptionStyleModel",
            "_view_count": null,
            "_view_module": "@jupyter-widgets/base",
            "_view_module_version": "1.2.0",
            "_view_name": "StyleView",
            "description_width": ""
          }
        },
        "2e58fa699bd743c6810cc95b53f90f86": {
          "model_module": "@jupyter-widgets/base",
          "model_name": "LayoutModel",
          "model_module_version": "1.2.0",
          "state": {
            "_model_module": "@jupyter-widgets/base",
            "_model_module_version": "1.2.0",
            "_model_name": "LayoutModel",
            "_view_count": null,
            "_view_module": "@jupyter-widgets/base",
            "_view_module_version": "1.2.0",
            "_view_name": "LayoutView",
            "align_content": null,
            "align_items": null,
            "align_self": null,
            "border": null,
            "bottom": null,
            "display": null,
            "flex": null,
            "flex_flow": null,
            "grid_area": null,
            "grid_auto_columns": null,
            "grid_auto_flow": null,
            "grid_auto_rows": null,
            "grid_column": null,
            "grid_gap": null,
            "grid_row": null,
            "grid_template_areas": null,
            "grid_template_columns": null,
            "grid_template_rows": null,
            "height": null,
            "justify_content": null,
            "justify_items": null,
            "left": null,
            "margin": null,
            "max_height": null,
            "max_width": null,
            "min_height": null,
            "min_width": null,
            "object_fit": null,
            "object_position": null,
            "order": null,
            "overflow": null,
            "overflow_x": null,
            "overflow_y": null,
            "padding": null,
            "right": null,
            "top": null,
            "visibility": null,
            "width": null
          }
        },
        "8b322cae1d424451b0399be06471e6d0": {
          "model_module": "@jupyter-widgets/controls",
          "model_name": "ProgressStyleModel",
          "model_module_version": "1.5.0",
          "state": {
            "_model_module": "@jupyter-widgets/controls",
            "_model_module_version": "1.5.0",
            "_model_name": "ProgressStyleModel",
            "_view_count": null,
            "_view_module": "@jupyter-widgets/base",
            "_view_module_version": "1.2.0",
            "_view_name": "StyleView",
            "bar_color": null,
            "description_width": ""
          }
        },
        "c3bfbc63b6ad4c9eafb587bbbc998aaf": {
          "model_module": "@jupyter-widgets/base",
          "model_name": "LayoutModel",
          "model_module_version": "1.2.0",
          "state": {
            "_model_module": "@jupyter-widgets/base",
            "_model_module_version": "1.2.0",
            "_model_name": "LayoutModel",
            "_view_count": null,
            "_view_module": "@jupyter-widgets/base",
            "_view_module_version": "1.2.0",
            "_view_name": "LayoutView",
            "align_content": null,
            "align_items": null,
            "align_self": null,
            "border": null,
            "bottom": null,
            "display": null,
            "flex": null,
            "flex_flow": null,
            "grid_area": null,
            "grid_auto_columns": null,
            "grid_auto_flow": null,
            "grid_auto_rows": null,
            "grid_column": null,
            "grid_gap": null,
            "grid_row": null,
            "grid_template_areas": null,
            "grid_template_columns": null,
            "grid_template_rows": null,
            "height": null,
            "justify_content": null,
            "justify_items": null,
            "left": null,
            "margin": null,
            "max_height": null,
            "max_width": null,
            "min_height": null,
            "min_width": null,
            "object_fit": null,
            "object_position": null,
            "order": null,
            "overflow": null,
            "overflow_x": null,
            "overflow_y": null,
            "padding": null,
            "right": null,
            "top": null,
            "visibility": null,
            "width": null
          }
        },
        "42e28c9957ea4a0f9bbe2e4d5444bc8e": {
          "model_module": "@jupyter-widgets/controls",
          "model_name": "DescriptionStyleModel",
          "model_module_version": "1.5.0",
          "state": {
            "_model_module": "@jupyter-widgets/controls",
            "_model_module_version": "1.5.0",
            "_model_name": "DescriptionStyleModel",
            "_view_count": null,
            "_view_module": "@jupyter-widgets/base",
            "_view_module_version": "1.2.0",
            "_view_name": "StyleView",
            "description_width": ""
          }
        },
        "7caf9a13015e4f9cb447467ad4d2d7d5": {
          "model_module": "@jupyter-widgets/controls",
          "model_name": "HBoxModel",
          "model_module_version": "1.5.0",
          "state": {
            "_dom_classes": [],
            "_model_module": "@jupyter-widgets/controls",
            "_model_module_version": "1.5.0",
            "_model_name": "HBoxModel",
            "_view_count": null,
            "_view_module": "@jupyter-widgets/controls",
            "_view_module_version": "1.5.0",
            "_view_name": "HBoxView",
            "box_style": "",
            "children": [
              "IPY_MODEL_fd70ec205fa54862bf028be26c8926c8",
              "IPY_MODEL_78827fadc6ff4e89b938a7797b40409c",
              "IPY_MODEL_481ebdfbb6674a3faa02b033c492128e"
            ],
            "layout": "IPY_MODEL_a8ea07585fc04c20a70c5a4c6cb2bcbb"
          }
        },
        "fd70ec205fa54862bf028be26c8926c8": {
          "model_module": "@jupyter-widgets/controls",
          "model_name": "HTMLModel",
          "model_module_version": "1.5.0",
          "state": {
            "_dom_classes": [],
            "_model_module": "@jupyter-widgets/controls",
            "_model_module_version": "1.5.0",
            "_model_name": "HTMLModel",
            "_view_count": null,
            "_view_module": "@jupyter-widgets/controls",
            "_view_module_version": "1.5.0",
            "_view_name": "HTMLView",
            "description": "",
            "description_tooltip": null,
            "layout": "IPY_MODEL_24a9983dec714abfbf44ba2b226a31de",
            "placeholder": "​",
            "style": "IPY_MODEL_f926dc19aa7841ef9548c9ade6b94fc3",
            "value": "Generating unsupervised examples...:  99%"
          }
        },
        "78827fadc6ff4e89b938a7797b40409c": {
          "model_module": "@jupyter-widgets/controls",
          "model_name": "FloatProgressModel",
          "model_module_version": "1.5.0",
          "state": {
            "_dom_classes": [],
            "_model_module": "@jupyter-widgets/controls",
            "_model_module_version": "1.5.0",
            "_model_name": "FloatProgressModel",
            "_view_count": null,
            "_view_module": "@jupyter-widgets/controls",
            "_view_module_version": "1.5.0",
            "_view_name": "ProgressView",
            "bar_style": "",
            "description": "",
            "description_tooltip": null,
            "layout": "IPY_MODEL_be4c570b28844d6da9667037b7306218",
            "max": 50000,
            "min": 0,
            "orientation": "horizontal",
            "style": "IPY_MODEL_13982eeb6f724fecbd39d32b31553931",
            "value": 50000
          }
        },
        "481ebdfbb6674a3faa02b033c492128e": {
          "model_module": "@jupyter-widgets/controls",
          "model_name": "HTMLModel",
          "model_module_version": "1.5.0",
          "state": {
            "_dom_classes": [],
            "_model_module": "@jupyter-widgets/controls",
            "_model_module_version": "1.5.0",
            "_model_name": "HTMLModel",
            "_view_count": null,
            "_view_module": "@jupyter-widgets/controls",
            "_view_module_version": "1.5.0",
            "_view_name": "HTMLView",
            "description": "",
            "description_tooltip": null,
            "layout": "IPY_MODEL_ad23632c4a164eb1b068a02d4b0af260",
            "placeholder": "​",
            "style": "IPY_MODEL_6ee695db0a2145269880ab45485d2ec8",
            "value": " 49719/50000 [00:18&lt;00:00, 4156.33 examples/s]"
          }
        },
        "a8ea07585fc04c20a70c5a4c6cb2bcbb": {
          "model_module": "@jupyter-widgets/base",
          "model_name": "LayoutModel",
          "model_module_version": "1.2.0",
          "state": {
            "_model_module": "@jupyter-widgets/base",
            "_model_module_version": "1.2.0",
            "_model_name": "LayoutModel",
            "_view_count": null,
            "_view_module": "@jupyter-widgets/base",
            "_view_module_version": "1.2.0",
            "_view_name": "LayoutView",
            "align_content": null,
            "align_items": null,
            "align_self": null,
            "border": null,
            "bottom": null,
            "display": null,
            "flex": null,
            "flex_flow": null,
            "grid_area": null,
            "grid_auto_columns": null,
            "grid_auto_flow": null,
            "grid_auto_rows": null,
            "grid_column": null,
            "grid_gap": null,
            "grid_row": null,
            "grid_template_areas": null,
            "grid_template_columns": null,
            "grid_template_rows": null,
            "height": null,
            "justify_content": null,
            "justify_items": null,
            "left": null,
            "margin": null,
            "max_height": null,
            "max_width": null,
            "min_height": null,
            "min_width": null,
            "object_fit": null,
            "object_position": null,
            "order": null,
            "overflow": null,
            "overflow_x": null,
            "overflow_y": null,
            "padding": null,
            "right": null,
            "top": null,
            "visibility": "hidden",
            "width": null
          }
        },
        "24a9983dec714abfbf44ba2b226a31de": {
          "model_module": "@jupyter-widgets/base",
          "model_name": "LayoutModel",
          "model_module_version": "1.2.0",
          "state": {
            "_model_module": "@jupyter-widgets/base",
            "_model_module_version": "1.2.0",
            "_model_name": "LayoutModel",
            "_view_count": null,
            "_view_module": "@jupyter-widgets/base",
            "_view_module_version": "1.2.0",
            "_view_name": "LayoutView",
            "align_content": null,
            "align_items": null,
            "align_self": null,
            "border": null,
            "bottom": null,
            "display": null,
            "flex": null,
            "flex_flow": null,
            "grid_area": null,
            "grid_auto_columns": null,
            "grid_auto_flow": null,
            "grid_auto_rows": null,
            "grid_column": null,
            "grid_gap": null,
            "grid_row": null,
            "grid_template_areas": null,
            "grid_template_columns": null,
            "grid_template_rows": null,
            "height": null,
            "justify_content": null,
            "justify_items": null,
            "left": null,
            "margin": null,
            "max_height": null,
            "max_width": null,
            "min_height": null,
            "min_width": null,
            "object_fit": null,
            "object_position": null,
            "order": null,
            "overflow": null,
            "overflow_x": null,
            "overflow_y": null,
            "padding": null,
            "right": null,
            "top": null,
            "visibility": null,
            "width": null
          }
        },
        "f926dc19aa7841ef9548c9ade6b94fc3": {
          "model_module": "@jupyter-widgets/controls",
          "model_name": "DescriptionStyleModel",
          "model_module_version": "1.5.0",
          "state": {
            "_model_module": "@jupyter-widgets/controls",
            "_model_module_version": "1.5.0",
            "_model_name": "DescriptionStyleModel",
            "_view_count": null,
            "_view_module": "@jupyter-widgets/base",
            "_view_module_version": "1.2.0",
            "_view_name": "StyleView",
            "description_width": ""
          }
        },
        "be4c570b28844d6da9667037b7306218": {
          "model_module": "@jupyter-widgets/base",
          "model_name": "LayoutModel",
          "model_module_version": "1.2.0",
          "state": {
            "_model_module": "@jupyter-widgets/base",
            "_model_module_version": "1.2.0",
            "_model_name": "LayoutModel",
            "_view_count": null,
            "_view_module": "@jupyter-widgets/base",
            "_view_module_version": "1.2.0",
            "_view_name": "LayoutView",
            "align_content": null,
            "align_items": null,
            "align_self": null,
            "border": null,
            "bottom": null,
            "display": null,
            "flex": null,
            "flex_flow": null,
            "grid_area": null,
            "grid_auto_columns": null,
            "grid_auto_flow": null,
            "grid_auto_rows": null,
            "grid_column": null,
            "grid_gap": null,
            "grid_row": null,
            "grid_template_areas": null,
            "grid_template_columns": null,
            "grid_template_rows": null,
            "height": null,
            "justify_content": null,
            "justify_items": null,
            "left": null,
            "margin": null,
            "max_height": null,
            "max_width": null,
            "min_height": null,
            "min_width": null,
            "object_fit": null,
            "object_position": null,
            "order": null,
            "overflow": null,
            "overflow_x": null,
            "overflow_y": null,
            "padding": null,
            "right": null,
            "top": null,
            "visibility": null,
            "width": null
          }
        },
        "13982eeb6f724fecbd39d32b31553931": {
          "model_module": "@jupyter-widgets/controls",
          "model_name": "ProgressStyleModel",
          "model_module_version": "1.5.0",
          "state": {
            "_model_module": "@jupyter-widgets/controls",
            "_model_module_version": "1.5.0",
            "_model_name": "ProgressStyleModel",
            "_view_count": null,
            "_view_module": "@jupyter-widgets/base",
            "_view_module_version": "1.2.0",
            "_view_name": "StyleView",
            "bar_color": null,
            "description_width": ""
          }
        },
        "ad23632c4a164eb1b068a02d4b0af260": {
          "model_module": "@jupyter-widgets/base",
          "model_name": "LayoutModel",
          "model_module_version": "1.2.0",
          "state": {
            "_model_module": "@jupyter-widgets/base",
            "_model_module_version": "1.2.0",
            "_model_name": "LayoutModel",
            "_view_count": null,
            "_view_module": "@jupyter-widgets/base",
            "_view_module_version": "1.2.0",
            "_view_name": "LayoutView",
            "align_content": null,
            "align_items": null,
            "align_self": null,
            "border": null,
            "bottom": null,
            "display": null,
            "flex": null,
            "flex_flow": null,
            "grid_area": null,
            "grid_auto_columns": null,
            "grid_auto_flow": null,
            "grid_auto_rows": null,
            "grid_column": null,
            "grid_gap": null,
            "grid_row": null,
            "grid_template_areas": null,
            "grid_template_columns": null,
            "grid_template_rows": null,
            "height": null,
            "justify_content": null,
            "justify_items": null,
            "left": null,
            "margin": null,
            "max_height": null,
            "max_width": null,
            "min_height": null,
            "min_width": null,
            "object_fit": null,
            "object_position": null,
            "order": null,
            "overflow": null,
            "overflow_x": null,
            "overflow_y": null,
            "padding": null,
            "right": null,
            "top": null,
            "visibility": null,
            "width": null
          }
        },
        "6ee695db0a2145269880ab45485d2ec8": {
          "model_module": "@jupyter-widgets/controls",
          "model_name": "DescriptionStyleModel",
          "model_module_version": "1.5.0",
          "state": {
            "_model_module": "@jupyter-widgets/controls",
            "_model_module_version": "1.5.0",
            "_model_name": "DescriptionStyleModel",
            "_view_count": null,
            "_view_module": "@jupyter-widgets/base",
            "_view_module_version": "1.2.0",
            "_view_name": "StyleView",
            "description_width": ""
          }
        },
        "1f4b5aaa765748db9662c2102cf1077f": {
          "model_module": "@jupyter-widgets/controls",
          "model_name": "HBoxModel",
          "model_module_version": "1.5.0",
          "state": {
            "_dom_classes": [],
            "_model_module": "@jupyter-widgets/controls",
            "_model_module_version": "1.5.0",
            "_model_name": "HBoxModel",
            "_view_count": null,
            "_view_module": "@jupyter-widgets/controls",
            "_view_module_version": "1.5.0",
            "_view_name": "HBoxView",
            "box_style": "",
            "children": [
              "IPY_MODEL_412802ffeb394cdeaa30fb9019b93600",
              "IPY_MODEL_0c0c9e1083c749179e3dc5dd098a2a99",
              "IPY_MODEL_ba50dcb5173748c68495a757e9144194"
            ],
            "layout": "IPY_MODEL_b6dbd2ba536b4124ae1ccaa692bcb91e"
          }
        },
        "412802ffeb394cdeaa30fb9019b93600": {
          "model_module": "@jupyter-widgets/controls",
          "model_name": "HTMLModel",
          "model_module_version": "1.5.0",
          "state": {
            "_dom_classes": [],
            "_model_module": "@jupyter-widgets/controls",
            "_model_module_version": "1.5.0",
            "_model_name": "HTMLModel",
            "_view_count": null,
            "_view_module": "@jupyter-widgets/controls",
            "_view_module_version": "1.5.0",
            "_view_name": "HTMLView",
            "description": "",
            "description_tooltip": null,
            "layout": "IPY_MODEL_7b93581b90be46dda20a74ef1612d739",
            "placeholder": "​",
            "style": "IPY_MODEL_fbb0cf659dc743098763ad68d4bbe0d3",
            "value": "Shuffling /root/tensorflow_datasets/imdb_reviews/plain_text/1.0.0.incompleteWURWJU/imdb_reviews-unsupervised.tfrecord*...:  85%"
          }
        },
        "0c0c9e1083c749179e3dc5dd098a2a99": {
          "model_module": "@jupyter-widgets/controls",
          "model_name": "FloatProgressModel",
          "model_module_version": "1.5.0",
          "state": {
            "_dom_classes": [],
            "_model_module": "@jupyter-widgets/controls",
            "_model_module_version": "1.5.0",
            "_model_name": "FloatProgressModel",
            "_view_count": null,
            "_view_module": "@jupyter-widgets/controls",
            "_view_module_version": "1.5.0",
            "_view_name": "ProgressView",
            "bar_style": "",
            "description": "",
            "description_tooltip": null,
            "layout": "IPY_MODEL_3b9deb5a137749e89d054d674df93f35",
            "max": 50000,
            "min": 0,
            "orientation": "horizontal",
            "style": "IPY_MODEL_413da7f2ea9f406d92009b77521003ed",
            "value": 50000
          }
        },
        "ba50dcb5173748c68495a757e9144194": {
          "model_module": "@jupyter-widgets/controls",
          "model_name": "HTMLModel",
          "model_module_version": "1.5.0",
          "state": {
            "_dom_classes": [],
            "_model_module": "@jupyter-widgets/controls",
            "_model_module_version": "1.5.0",
            "_model_name": "HTMLModel",
            "_view_count": null,
            "_view_module": "@jupyter-widgets/controls",
            "_view_module_version": "1.5.0",
            "_view_name": "HTMLView",
            "description": "",
            "description_tooltip": null,
            "layout": "IPY_MODEL_189c5a1a82f1442ea701d280af16d566",
            "placeholder": "​",
            "style": "IPY_MODEL_18a57ac8c3194dee8a0101db15cf7163",
            "value": " 42451/50000 [00:00&lt;00:00, 160636.87 examples/s]"
          }
        },
        "b6dbd2ba536b4124ae1ccaa692bcb91e": {
          "model_module": "@jupyter-widgets/base",
          "model_name": "LayoutModel",
          "model_module_version": "1.2.0",
          "state": {
            "_model_module": "@jupyter-widgets/base",
            "_model_module_version": "1.2.0",
            "_model_name": "LayoutModel",
            "_view_count": null,
            "_view_module": "@jupyter-widgets/base",
            "_view_module_version": "1.2.0",
            "_view_name": "LayoutView",
            "align_content": null,
            "align_items": null,
            "align_self": null,
            "border": null,
            "bottom": null,
            "display": null,
            "flex": null,
            "flex_flow": null,
            "grid_area": null,
            "grid_auto_columns": null,
            "grid_auto_flow": null,
            "grid_auto_rows": null,
            "grid_column": null,
            "grid_gap": null,
            "grid_row": null,
            "grid_template_areas": null,
            "grid_template_columns": null,
            "grid_template_rows": null,
            "height": null,
            "justify_content": null,
            "justify_items": null,
            "left": null,
            "margin": null,
            "max_height": null,
            "max_width": null,
            "min_height": null,
            "min_width": null,
            "object_fit": null,
            "object_position": null,
            "order": null,
            "overflow": null,
            "overflow_x": null,
            "overflow_y": null,
            "padding": null,
            "right": null,
            "top": null,
            "visibility": "hidden",
            "width": null
          }
        },
        "7b93581b90be46dda20a74ef1612d739": {
          "model_module": "@jupyter-widgets/base",
          "model_name": "LayoutModel",
          "model_module_version": "1.2.0",
          "state": {
            "_model_module": "@jupyter-widgets/base",
            "_model_module_version": "1.2.0",
            "_model_name": "LayoutModel",
            "_view_count": null,
            "_view_module": "@jupyter-widgets/base",
            "_view_module_version": "1.2.0",
            "_view_name": "LayoutView",
            "align_content": null,
            "align_items": null,
            "align_self": null,
            "border": null,
            "bottom": null,
            "display": null,
            "flex": null,
            "flex_flow": null,
            "grid_area": null,
            "grid_auto_columns": null,
            "grid_auto_flow": null,
            "grid_auto_rows": null,
            "grid_column": null,
            "grid_gap": null,
            "grid_row": null,
            "grid_template_areas": null,
            "grid_template_columns": null,
            "grid_template_rows": null,
            "height": null,
            "justify_content": null,
            "justify_items": null,
            "left": null,
            "margin": null,
            "max_height": null,
            "max_width": null,
            "min_height": null,
            "min_width": null,
            "object_fit": null,
            "object_position": null,
            "order": null,
            "overflow": null,
            "overflow_x": null,
            "overflow_y": null,
            "padding": null,
            "right": null,
            "top": null,
            "visibility": null,
            "width": null
          }
        },
        "fbb0cf659dc743098763ad68d4bbe0d3": {
          "model_module": "@jupyter-widgets/controls",
          "model_name": "DescriptionStyleModel",
          "model_module_version": "1.5.0",
          "state": {
            "_model_module": "@jupyter-widgets/controls",
            "_model_module_version": "1.5.0",
            "_model_name": "DescriptionStyleModel",
            "_view_count": null,
            "_view_module": "@jupyter-widgets/base",
            "_view_module_version": "1.2.0",
            "_view_name": "StyleView",
            "description_width": ""
          }
        },
        "3b9deb5a137749e89d054d674df93f35": {
          "model_module": "@jupyter-widgets/base",
          "model_name": "LayoutModel",
          "model_module_version": "1.2.0",
          "state": {
            "_model_module": "@jupyter-widgets/base",
            "_model_module_version": "1.2.0",
            "_model_name": "LayoutModel",
            "_view_count": null,
            "_view_module": "@jupyter-widgets/base",
            "_view_module_version": "1.2.0",
            "_view_name": "LayoutView",
            "align_content": null,
            "align_items": null,
            "align_self": null,
            "border": null,
            "bottom": null,
            "display": null,
            "flex": null,
            "flex_flow": null,
            "grid_area": null,
            "grid_auto_columns": null,
            "grid_auto_flow": null,
            "grid_auto_rows": null,
            "grid_column": null,
            "grid_gap": null,
            "grid_row": null,
            "grid_template_areas": null,
            "grid_template_columns": null,
            "grid_template_rows": null,
            "height": null,
            "justify_content": null,
            "justify_items": null,
            "left": null,
            "margin": null,
            "max_height": null,
            "max_width": null,
            "min_height": null,
            "min_width": null,
            "object_fit": null,
            "object_position": null,
            "order": null,
            "overflow": null,
            "overflow_x": null,
            "overflow_y": null,
            "padding": null,
            "right": null,
            "top": null,
            "visibility": null,
            "width": null
          }
        },
        "413da7f2ea9f406d92009b77521003ed": {
          "model_module": "@jupyter-widgets/controls",
          "model_name": "ProgressStyleModel",
          "model_module_version": "1.5.0",
          "state": {
            "_model_module": "@jupyter-widgets/controls",
            "_model_module_version": "1.5.0",
            "_model_name": "ProgressStyleModel",
            "_view_count": null,
            "_view_module": "@jupyter-widgets/base",
            "_view_module_version": "1.2.0",
            "_view_name": "StyleView",
            "bar_color": null,
            "description_width": ""
          }
        },
        "189c5a1a82f1442ea701d280af16d566": {
          "model_module": "@jupyter-widgets/base",
          "model_name": "LayoutModel",
          "model_module_version": "1.2.0",
          "state": {
            "_model_module": "@jupyter-widgets/base",
            "_model_module_version": "1.2.0",
            "_model_name": "LayoutModel",
            "_view_count": null,
            "_view_module": "@jupyter-widgets/base",
            "_view_module_version": "1.2.0",
            "_view_name": "LayoutView",
            "align_content": null,
            "align_items": null,
            "align_self": null,
            "border": null,
            "bottom": null,
            "display": null,
            "flex": null,
            "flex_flow": null,
            "grid_area": null,
            "grid_auto_columns": null,
            "grid_auto_flow": null,
            "grid_auto_rows": null,
            "grid_column": null,
            "grid_gap": null,
            "grid_row": null,
            "grid_template_areas": null,
            "grid_template_columns": null,
            "grid_template_rows": null,
            "height": null,
            "justify_content": null,
            "justify_items": null,
            "left": null,
            "margin": null,
            "max_height": null,
            "max_width": null,
            "min_height": null,
            "min_width": null,
            "object_fit": null,
            "object_position": null,
            "order": null,
            "overflow": null,
            "overflow_x": null,
            "overflow_y": null,
            "padding": null,
            "right": null,
            "top": null,
            "visibility": null,
            "width": null
          }
        },
        "18a57ac8c3194dee8a0101db15cf7163": {
          "model_module": "@jupyter-widgets/controls",
          "model_name": "DescriptionStyleModel",
          "model_module_version": "1.5.0",
          "state": {
            "_model_module": "@jupyter-widgets/controls",
            "_model_module_version": "1.5.0",
            "_model_name": "DescriptionStyleModel",
            "_view_count": null,
            "_view_module": "@jupyter-widgets/base",
            "_view_module_version": "1.2.0",
            "_view_name": "StyleView",
            "description_width": ""
          }
        }
      }
    }
  },
  "cells": [
    {
      "cell_type": "markdown",
      "metadata": {
        "id": "view-in-github",
        "colab_type": "text"
      },
      "source": [
        "<a href=\"https://colab.research.google.com/github/vineetp6/Trax/blob/main/TraxAttentionModel.ipynb\" target=\"_parent\"><img src=\"https://colab.research.google.com/assets/colab-badge.svg\" alt=\"Open In Colab\"/></a>"
      ]
    },
    {
      "cell_type": "markdown",
      "metadata": {
        "id": "MZ_VJUymklkb"
      },
      "source": [
        "\n",
        "# An introduction to Trax\n",
        "\n",
        "Trax is an amazing Deep Learning library that's being developed and maintained by **Google Brain Team**.\n",
        "\n",
        "It combines the power and experience of Tensorflow with a cleaner, easier to understand code, in a way that resembles a lot the Keras library (which is a part of tensorflow itself now).\n",
        "\n",
        "Since it's being developed by Google Brain Team, it inclueds a lot of state-of-the-art algorithms and techniques, especially in *Natural Language Processing*!\n",
        "\n",
        "For example, it contains code for:\n",
        "\n",
        "\n",
        "*   Seq2Seq Models\n",
        "*   Transformer Models\n",
        "*   BERt Model\n",
        "*   Reformer Model (the efficient Transformer!)\n",
        "\n",
        "Aside from this, there are many useful preprocessing tools that help you get your NLP Training running as fast as a bolt!\n",
        "\n",
        "Let us get started!"
      ]
    },
    {
      "cell_type": "code",
      "metadata": {
        "id": "1c3XdVoux7WA"
      },
      "source": [
        "# Run this cell to set TPU in Colab\n",
        "import os\n",
        "import jax\n",
        "import requests\n",
        "# Run this to get the TPU address.\n",
        "if 'TPU_DRIVER_MODE' not in globals():\n",
        "  url = 'http://' + os.environ['COLAB_TPU_ADDR'].split(':')[0] + ':8475/requestversion/tpu_driver0.1-dev20191206'\n",
        "  resp = requests.post(url)\n",
        "  TPU_DRIVER_MODE = 1\n",
        "\n",
        "# The following is required to use TPU Driver as JAX's backend.\n",
        "from jax.config import config\n",
        "config.FLAGS.jax_xla_backend = \"tpu_driver\"\n",
        "config.FLAGS.jax_backend_target = \"grpc://\" + os.environ['COLAB_TPU_ADDR']"
      ],
      "execution_count": null,
      "outputs": []
    },
    {
      "cell_type": "code",
      "metadata": {
        "id": "aMEIaC-eyPWg"
      },
      "source": [
        "try:\n",
        "    import trax\n",
        "except ModuleNotFoundError:\n",
        "    # Woa google, didn't you get your own library to your colabs yet!?\n",
        "    !pip install trax\n",
        "    import trax\n",
        "    \n",
        "trax.fastmath.set_backend('jax')\n",
        "# Layers used to build the Deep Learning Models\n",
        "import trax.layers as tl\n",
        "# Utilities to build and download datasets\n",
        "import trax.data as data\n",
        "# Fastmath is trax interface to numpy, or jax, or tensorflow-numpy. Jax has some numpy operations working much faster, but not all of them, so here's the need for both.\n",
        "import trax.fastmath as np\n",
        "# Basics for training\n",
        "import trax.supervised as ts\n",
        "\n",
        "import numpy # default numpy"
      ],
      "execution_count": null,
      "outputs": []
    },
    {
      "cell_type": "markdown",
      "metadata": {
        "id": "oUcJ2ATEnRUH"
      },
      "source": [
        "\n",
        "## Preprocessing Pipelines\n",
        "---\n",
        "\n",
        "Trax provides us easy to use resources to implement NLP Pipelines (actually, any preprocessing pipeline).\n",
        "\n",
        "For example, Trax allows us to use many Tensorflow utilities, such as Tensorflow Datasets. We can download any dataset available there very easily.\n",
        "\n",
        "To do it, we use:\n",
        "\n",
        "```python \n",
        "data.TFDS(dataset_name, keys=(which_value_field_to_get, target_value), train=if_data_is_train_or_eval)\n",
        "```\n",
        "\n",
        "We can, for example, get the 'imdb_reviews' dataset to be used for sentiment analysis."
      ]
    },
    {
      "cell_type": "code",
      "metadata": {
        "id": "Y0SULfTLy0ab",
        "outputId": "4d200c2c-b67e-4eb3-b9e9-0ad8bcffd61c",
        "colab": {
          "base_uri": "https://localhost:8080/",
          "height": 188,
          "referenced_widgets": [
            "2e3b85e8eb4b435fa468ba3f93be7dad",
            "29306a315f1045afa03620751f9dc8d1",
            "66e27e198d1b45c5ab659b0e9e84ad28",
            "785e98c59c6b49409fa5268dc28f1c2d",
            "ba43f69cc8c64254ac41b4bad02f7fce",
            "c9b3cd298bee4fa0bb47d62cd6397ee4",
            "745825ceddff49a7824803dbb24684f0",
            "69e926593b3c42bf9d95a01d65702f1d",
            "0f2a963824fc485196c198bc63e31be5",
            "071f2d05263c479dbe4483090e923ffb",
            "84c4de8b443241ddb571ba3c84a952d9",
            "da50ec2a84884efb9ee1b70a1c09a625",
            "8b71a0bc3756405987df48bcf73eb9b4",
            "faf27d98cc2d4464a4cd79593854c9f3",
            "1ef2ae4f5cb14aacbddde91b3a204d1d",
            "63a7ab56e6ec41e18f73a00acb9f1aad",
            "884b9c581f0c462c8c26765290ef8606",
            "7a6b1a16055544d68dc75805e7ab903c",
            "c181123abf9b4bf084656411ab9c9dec",
            "a85f333a5f264035a6fd1e7d69f08f50",
            "93e7675ae8894aea8a025201a58cf3bc",
            "6e9b3c4356014245adc342de708277cf",
            "30ed8115dff741e1bf17077df812719b",
            "416274a631f247488757a50424258491",
            "b23fe69d8b3240009c81539e871abb83",
            "0b42350f26a145a795b542bbe9210f6f",
            "8367747b0a88444988c792018555df91",
            "3b88fd3f7d7e45349131d23581b7e15a",
            "b985e71c88c5496db7e4d07e6e5cfc8e",
            "c2800072a90a4daeb40b15f75badaa8b",
            "291f2a3e85f64225913e5c0402c6cc6d",
            "667dc45665224a2bb521280f6c8e7627",
            "9142576f7440478998cad83ebad9494e",
            "2018b0e8efac4427bdda38211e8b9cb0",
            "8f9235a74d2d442da4c9d935e7a55628",
            "e21df525fa7b414d94fcc6b75c3ff1c9",
            "acf0cd17c2104c838bebe7579a9f89be",
            "8377ed22eeab4310b4668f23f469e27f",
            "e04a511a98ab4c5691ce55c2badb9cb8",
            "d2f8224f523e4aa58564352efd1eb838",
            "68d348c1f59f49f0b18d1af794415a85",
            "19f4889ad0f34137be7dbf469880e396",
            "32425d3434f04bacb23c85bdf55081b7",
            "27c5e9bca02c49fa9d70055107f4534c",
            "fdbee8410e024e219c535e5bfb668cb2",
            "472fdf0d815443ca89f64e8a14659baa",
            "fa785b8f45404db793f53e2ad931af5d",
            "b8119a81f2b44415bf47e565203babd1",
            "c2a17c9a3ce54e5bbcdb238b14dbefdb",
            "92c9b03d6cf54833a1978bd5fba42394",
            "bbdbdf7113de44688bfa3e7bb67006c7",
            "edca449506bf4f139ecb6cc2b01c644b",
            "1b62964b69424529a4efa51a8030ba9c",
            "c7f4882627fd4d93b824e4e9f612b58f",
            "ba202176cb4a4f959270fd31f762ce39",
            "62e109a92b964327957e75fea3112c95",
            "d06af159f8b84d2687b2cf23a49e305f",
            "1ae14aa72de640d9b13fed9e85819059",
            "969fbba716a647ed8c534c9ef95f4780",
            "a168713c1ad74b968fe93d94db19a08e",
            "698ac60609894ebfa0ce34cd74d07688",
            "d09ada64affa413a9de49535846b0371",
            "c4c71c6798974b7db044f25abb84b89c",
            "8cb74370eb9a4fd1a12e8c7d93d03a5d",
            "04b3eed019824d49b4b67ab6ec28aa1b",
            "6eef3dadd706467e95000afbe150b8ea",
            "bcd04db46fbd408daa1d380cb217c112",
            "ad02006e76bf41b6bc5db7a302128e56",
            "f59f2b78e849474e8a9a62b3a44b85d6",
            "8e4a754ec4a546e1a0f0ce92f7c9c9a1",
            "e81a7b58f8584253b31eda518cd7f845",
            "712ace4b4c4440f6a374a4434a53e449",
            "38ca0ff6e26d464ab08ad497f52b395e",
            "2e58fa699bd743c6810cc95b53f90f86",
            "8b322cae1d424451b0399be06471e6d0",
            "c3bfbc63b6ad4c9eafb587bbbc998aaf",
            "42e28c9957ea4a0f9bbe2e4d5444bc8e",
            "7caf9a13015e4f9cb447467ad4d2d7d5",
            "fd70ec205fa54862bf028be26c8926c8",
            "78827fadc6ff4e89b938a7797b40409c",
            "481ebdfbb6674a3faa02b033c492128e",
            "a8ea07585fc04c20a70c5a4c6cb2bcbb",
            "24a9983dec714abfbf44ba2b226a31de",
            "f926dc19aa7841ef9548c9ade6b94fc3",
            "be4c570b28844d6da9667037b7306218",
            "13982eeb6f724fecbd39d32b31553931",
            "ad23632c4a164eb1b068a02d4b0af260",
            "6ee695db0a2145269880ab45485d2ec8",
            "1f4b5aaa765748db9662c2102cf1077f",
            "412802ffeb394cdeaa30fb9019b93600",
            "0c0c9e1083c749179e3dc5dd098a2a99",
            "ba50dcb5173748c68495a757e9144194",
            "b6dbd2ba536b4124ae1ccaa692bcb91e",
            "7b93581b90be46dda20a74ef1612d739",
            "fbb0cf659dc743098763ad68d4bbe0d3",
            "3b9deb5a137749e89d054d674df93f35",
            "413da7f2ea9f406d92009b77521003ed",
            "189c5a1a82f1442ea701d280af16d566",
            "18a57ac8c3194dee8a0101db15cf7163"
          ]
        }
      },
      "source": [
        "# Get dataset\n",
        "imdb = data.TFDS('imdb_reviews', keys=('text', 'label'), train=True) #This returns a function that wraps a generator."
      ],
      "execution_count": null,
      "outputs": [
        {
          "output_type": "stream",
          "name": "stdout",
          "text": [
            "Downloading and preparing dataset 80.23 MiB (download: 80.23 MiB, generated: Unknown size, total: 80.23 MiB) to /root/tensorflow_datasets/imdb_reviews/plain_text/1.0.0...\n"
          ]
        },
        {
          "output_type": "display_data",
          "data": {
            "text/plain": [
              "Dl Completed...: 0 url [00:00, ? url/s]"
            ],
            "application/vnd.jupyter.widget-view+json": {
              "version_major": 2,
              "version_minor": 0,
              "model_id": "2e3b85e8eb4b435fa468ba3f93be7dad"
            }
          },
          "metadata": {}
        },
        {
          "output_type": "display_data",
          "data": {
            "text/plain": [
              "Dl Size...: 0 MiB [00:00, ? MiB/s]"
            ],
            "application/vnd.jupyter.widget-view+json": {
              "version_major": 2,
              "version_minor": 0,
              "model_id": "da50ec2a84884efb9ee1b70a1c09a625"
            }
          },
          "metadata": {}
        },
        {
          "output_type": "display_data",
          "data": {
            "text/plain": [
              "Generating splits...:   0%|          | 0/3 [00:00<?, ? splits/s]"
            ],
            "application/vnd.jupyter.widget-view+json": {
              "version_major": 2,
              "version_minor": 0,
              "model_id": "30ed8115dff741e1bf17077df812719b"
            }
          },
          "metadata": {}
        },
        {
          "output_type": "display_data",
          "data": {
            "text/plain": [
              "Generating train examples...:   0%|          | 0/25000 [00:00<?, ? examples/s]"
            ],
            "application/vnd.jupyter.widget-view+json": {
              "version_major": 2,
              "version_minor": 0,
              "model_id": "2018b0e8efac4427bdda38211e8b9cb0"
            }
          },
          "metadata": {}
        },
        {
          "output_type": "display_data",
          "data": {
            "text/plain": [
              "Shuffling /root/tensorflow_datasets/imdb_reviews/plain_text/1.0.0.incompleteWURWJU/imdb_reviews-train.tfrecord…"
            ],
            "application/vnd.jupyter.widget-view+json": {
              "version_major": 2,
              "version_minor": 0,
              "model_id": "fdbee8410e024e219c535e5bfb668cb2"
            }
          },
          "metadata": {}
        },
        {
          "output_type": "display_data",
          "data": {
            "text/plain": [
              "Generating test examples...:   0%|          | 0/25000 [00:00<?, ? examples/s]"
            ],
            "application/vnd.jupyter.widget-view+json": {
              "version_major": 2,
              "version_minor": 0,
              "model_id": "62e109a92b964327957e75fea3112c95"
            }
          },
          "metadata": {}
        },
        {
          "output_type": "display_data",
          "data": {
            "text/plain": [
              "Shuffling /root/tensorflow_datasets/imdb_reviews/plain_text/1.0.0.incompleteWURWJU/imdb_reviews-test.tfrecord*…"
            ],
            "application/vnd.jupyter.widget-view+json": {
              "version_major": 2,
              "version_minor": 0,
              "model_id": "bcd04db46fbd408daa1d380cb217c112"
            }
          },
          "metadata": {}
        },
        {
          "output_type": "display_data",
          "data": {
            "text/plain": [
              "Generating unsupervised examples...:   0%|          | 0/50000 [00:00<?, ? examples/s]"
            ],
            "application/vnd.jupyter.widget-view+json": {
              "version_major": 2,
              "version_minor": 0,
              "model_id": "7caf9a13015e4f9cb447467ad4d2d7d5"
            }
          },
          "metadata": {}
        },
        {
          "output_type": "display_data",
          "data": {
            "text/plain": [
              "Shuffling /root/tensorflow_datasets/imdb_reviews/plain_text/1.0.0.incompleteWURWJU/imdb_reviews-unsupervised.t…"
            ],
            "application/vnd.jupyter.widget-view+json": {
              "version_major": 2,
              "version_minor": 0,
              "model_id": "1f4b5aaa765748db9662c2102cf1077f"
            }
          },
          "metadata": {}
        },
        {
          "output_type": "stream",
          "name": "stderr",
          "text": [
            "WARNING:jax._src.lib.xla_bridge:No GPU/TPU found, falling back to CPU. (Set TF_CPP_MIN_LOG_LEVEL=0 and rerun for more info.)\n"
          ]
        },
        {
          "output_type": "stream",
          "name": "stdout",
          "text": [
            "Dataset imdb_reviews downloaded and prepared to /root/tensorflow_datasets/imdb_reviews/plain_text/1.0.0. Subsequent calls will reuse this data.\n"
          ]
        },
        {
          "output_type": "stream",
          "name": "stderr",
          "text": [
            "/usr/local/lib/python3.8/dist-packages/jax/_src/lib/xla_bridge.py:553: UserWarning: jax.host_count has been renamed to jax.process_count. This alias will eventually be removed; please update your code.\n",
            "  warnings.warn(\n"
          ]
        }
      ]
    },
    {
      "cell_type": "code",
      "metadata": {
        "id": "vZ_0si2poP29",
        "outputId": "3895cf4d-3838-4691-94b6-30279491f1b4",
        "colab": {
          "base_uri": "https://localhost:8080/"
        }
      },
      "source": [
        "# We can check the next value by using next(dataset). It returns the text in byte format and the sentiment (0 = neg, 1 = pos).\n",
        "# Since it is a function, next(dataset_func()) will always return the first sentence in the dataset, unless we get the result from the function, which is the actual generator.\n",
        "text_in_bytes, sent = next(imdb())\n",
        "# To work with it, we have to decode the string, because it is in bytes format:\n",
        "decoded = text_in_bytes.decode('utf-8')\n",
        "# To avoid index errors in formatting:\n",
        "max_len = 100 if len(decoded) > 100 else len(decoded)-1\n",
        "print(\"The text, up to 100 characters, is:\\n{}\\nThe sentiment is: {}\".format(decoded[:max_len], \"\\033[92mPositive\" if sent else \"\\033[91mNegative\"))"
      ],
      "execution_count": null,
      "outputs": [
        {
          "output_type": "stream",
          "name": "stdout",
          "text": [
            "The text, up to 100 characters, is:\n",
            "This was an absolutely terrible movie. Don't be lured in by Christopher Walken or Michael Ironside. \n",
            "The sentiment is: \u001b[91mNegative\n"
          ]
        }
      ]
    },
    {
      "cell_type": "markdown",
      "metadata": {
        "id": "P7gpPVcgp7pN"
      },
      "source": [
        "\n",
        "---\n",
        "\n",
        "\n",
        "As I mentioned, Trax allows for easy to use preprocessing pipelines.\n",
        "\n",
        "To do it, we implement a special type of object: the Serial Layer (for data). We can import it from trax.data.Serial, and this one allows us to process data one function at a time, in a sequential manner.\n",
        "\n",
        "```python\n",
        "# Remember that we imported trax.data as data\n",
        "pipeline = data.Serial(\n",
        "    function1(Usually loads data),\n",
        "    function2(does some preprocessing)...\n",
        ") -> returns a generator\n",
        "```\n",
        "\n",
        "We can also make a preprocessing pipeline and then feed the data generator to it. This way, we can do many important tasks, such as:\n",
        "\n",
        "```python\n",
        "my_data_generator = dataset_generator #function with yield statement\n",
        "preprocessing_pipeline = data.Serial(\n",
        "    my_remove_punct_function(puncts_to_remove='.,:;'),\n",
        "    my_stopword_removal_function(stopword_dict='/data/stopword_dict.json'),\n",
        "    my_tokenizer() ...\n",
        ")\n",
        "my_pipeline_generator = preprocessing_pipeline(my_data_generator())\n",
        "```\n",
        "Just remember that each of your functions takes as input the same format as the output of the previous function (eg.: (1) takes a string and returns a list; (2) takes a list and returns a list, etc.)\n",
        "\n",
        "(generator_sample)->(1)->(2)->...->(ml_output)\n",
        "\n",
        "For you to 'plug' your pipeline into Trax algorithms, the expected format is batch_input, batch_expected_output, mask weights (if any).\n",
        "\n",
        "In the following example, we show a pipeline that makes use of some useful preprocessing steps provided by Trax itself."
      ]
    },
    {
      "cell_type": "code",
      "metadata": {
        "id": "7IhaEZycoE_G"
      },
      "source": [
        "pipeline_with_data = data.Serial(\n",
        "  data.TFDS('imdb_reviews', keys=('text', 'label'), train=True), #Loads dataset generator, you can use it inside the pipeline or outside, as we'll see an example below.\n",
        "  data.Tokenize(vocab_file='en_8k.subword', keys=[0]), #Tokenizes using a subword dict, it breaks words into common prefixes and suffixes for better generalization (useful for machine learning only).\n",
        "  data.Shuffle(), # Randomizes to avoid bias in the way data is displayed.\n",
        "  data.FilterByLength(max_length=128, length_keys=[0]), # This makes sure no sentence is bigger than 128 tokens, useful for some models that have size constraints.\n",
        "  data.BucketByLength(boundaries=[  32, 64, 128], # Bucketing is useful for batch training, it optimizes algorithm learning using batches of same-size sentences together.\n",
        "                      batch_sizes=[128,  64, 32],\n",
        "                      length_keys=[0]),\n",
        "  data.AddLossWeights() # Adds Loss Weights, useful in case of masking and padding, else padding can affect model loss.\n",
        ")"
      ],
      "execution_count": null,
      "outputs": []
    },
    {
      "cell_type": "code",
      "metadata": {
        "id": "KHPKYBX2tOa7",
        "outputId": "c41fa7b5-4aaa-4ad1-b444-9a42490d7759",
        "colab": {
          "base_uri": "https://localhost:8080/"
        }
      },
      "source": [
        "# Testing the pipeline:\n",
        "batch_token_ids, batch_target_values, batch_loss_weights = next(pipeline_with_data())\n",
        "# Here's how to detokenize the sentence input:\n",
        "first_tokenized_sentence = batch_token_ids[0][:10] #Using 10 max lenght is safe for our batches will have at least 32 len according to bucketing policy, even if some of them are just padding values.\n",
        "detokenized = data.detokenize(first_tokenized_sentence, vocab_file='en_8k.subword')\n",
        "print(\"Example sentence first 10 tokens: {}...\\nExample first 10 tokens after detokenization: {}...\\nSentiment: {}\".format(first_tokenized_sentence, \n",
        "                                                                                    detokenized, \n",
        "                                                                                    \"Positive\" if batch_target_values[0] else \"Negative\"))"
      ],
      "execution_count": null,
      "outputs": [
        {
          "output_type": "stream",
          "name": "stdout",
          "text": [
            "Example sentence first 10 tokens: [ 433 1268   96 6300    3  151    4 2156   37 1005]...\n",
            "Example first 10 tokens after detokenization: As others have mentioned, all the women that go...\n",
            "Sentiment: Positive\n"
          ]
        }
      ]
    },
    {
      "cell_type": "code",
      "metadata": {
        "id": "jSPmn3K_3kqt",
        "outputId": "e63473b7-0a0b-42b7-b936-2ad7f31a499d",
        "colab": {
          "base_uri": "https://localhost:8080/"
        }
      },
      "source": [
        "# Here's an example with our pipeline\n",
        "\n",
        "def mock_generate_samples(mock_data):\n",
        "    \"\"\"\n",
        "    #Change this to use your file! (format: each line has text \\t sent)\n",
        "    with open(file) as f:\n",
        "        line = f.read()\n",
        "        for line in f:\n",
        "            values = line.split('\\t')\n",
        "            if len(values) < 2: \n",
        "                continue\n",
        "            yield values[0], values[1]\n",
        "        \"\"\"\n",
        "    strings = mock_data.split('.')\n",
        "    for string in strings:\n",
        "        values = string.split(';')\n",
        "        if len(values) < 2:\n",
        "            continue\n",
        "        yield values[0], values[1]\n",
        "\n",
        "# Here's an example into how to implement your own functions to the Pipeline.\n",
        "\n",
        "def change_all_to_lowercase(generator):\n",
        "    for entry in generator:\n",
        "        next_text, next_sent = entry\n",
        "        lowercased_text = next_text.lower()\n",
        "        yield lowercased_text, next_sent\n",
        "\n",
        "# You need to create a wrapper for it.\n",
        "\n",
        "def Change_All_To_LowerCase(): \n",
        "  \"\"\"Returns function to lowercase the sentence.\"\"\"\n",
        "  return lambda g: change_all_to_lowercase(g)\n",
        "\n",
        "my_generator = mock_generate_samples(\"This is a positive sentence; 1. This is another positive sentence; 1. This is a negative sentence :(; 0.\")\n",
        "my_pipeline = data.Serial(\n",
        "    change_all_to_lowercase, #Order matters! Lowercase before tokenizing.\n",
        "    data.Tokenize(vocab_file='en_8k.subword', keys=[0]),\n",
        "    data.Shuffle(),\n",
        "    data.AddLossWeights()\n",
        ")\n",
        "# We'll get a warning because our dataset is small, but it works.\n",
        "# We only iterate over results for simplicity. No need for that. We actually use the pipeline as input\n",
        "for tokens, sent, weights in my_pipeline(my_generator):\n",
        "    print(tokens, sent, data.detokenize(tokens, vocab_file='en_8k.subword'))"
      ],
      "execution_count": null,
      "outputs": [
        {
          "output_type": "stream",
          "name": "stderr",
          "text": [
            "WARNING:absl:Not enough samples (3) to fill initial queue (size 1024).\n"
          ]
        },
        {
          "output_type": "stream",
          "name": "stdout",
          "text": [
            "[  84  114   25 1066 6567    2 4965  665]  1  this is another positive sentence\n",
            "[ 114   25   12 6567    2 4965  665]  1 this is a positive sentence\n",
            "[  84  114   25   12 5780  160 4965  665  192 1304  186]  0  this is a negative sentence :(\n"
          ]
        }
      ]
    },
    {
      "cell_type": "markdown",
      "metadata": {
        "id": "nFFM1ECXvfGO"
      },
      "source": [
        "## Creating Models\n",
        "\n",
        "\n",
        "---\n",
        "\n",
        "Now that we've seen preprocessing, it's time to move into Modeling itself.\n",
        "\n",
        "Trax allows the use of models in two ways:\n",
        "\n",
        "<ul>\n",
        "<li>Predefined models</li>\n",
        "<ul>\n",
        "<li>Seq2Seq with Attention</li>\n",
        "<li>BERT</li>\n",
        "<li>Transformer</li>\n",
        "<li>Reformer</li>\n",
        "</ul>\n",
        "<li>Self-made models with layers.</li>\n",
        "</ul>\n",
        "\n",
        "Lets peek into one of Trax [pre-made models](https://trax-ml.readthedocs.io/en/latest/trax.models.html), the LSTMSeq2SeqAttn.\n"
      ]
    },
    {
      "cell_type": "code",
      "metadata": {
        "id": "vSgIYwqsBZMk",
        "outputId": "1dfbadd9-2ca2-4bba-fd57-8b6880eb52a2",
        "colab": {
          "base_uri": "https://localhost:8080/"
        }
      },
      "source": [
        "# First, I'll download a vocab file to be used as an example.\n",
        "import os.path\n",
        "if not os.path.isfile('/content/pt.wiki.bpe.vs10000.vocab'):\n",
        "    !wget https://nlp.h-its.org/bpemb/pt/pt.wiki.bpe.vs10000.vocab\n",
        "# Suppose we'll use this model to make a Neural Machine Translator from English to Portuguese with a Seq2Seq Model.\n",
        "# We can do that instantiating a predefined model LSTMSeq2SeqAttn, you can check all parameters available in the Trax link above.\n",
        "seq2seq_model = trax.models.LSTMSeq2SeqAttn(input_vocab_size=data.vocab_size(vocab_file='en_8k.subword'), # I'm using data.vocab_size to get the vocab size that is going to be used by the tokenizer\n",
        "                                            target_vocab_size=data.vocab_size(vocab_type='subword', vocab_file='pt.wiki.bpe.vs10000.vocab', vocab_dir='/content'))\n",
        "# We can peek its structure:\n",
        "print(seq2seq_model)"
      ],
      "execution_count": null,
      "outputs": [
        {
          "output_type": "stream",
          "name": "stdout",
          "text": [
            "Serial_in2_out2[\n",
            "  Select[0,1,0,1]_in2_out4\n",
            "  Parallel_in2_out2[\n",
            "    Serial[\n",
            "      Embedding_8183_512\n",
            "      LSTM_512\n",
            "      LSTM_512\n",
            "    ]\n",
            "    Serial[\n",
            "      Serial[\n",
            "        ShiftRight(1)\n",
            "      ]\n",
            "      Embedding_10000_512\n",
            "      LSTM_512\n",
            "    ]\n",
            "  ]\n",
            "  PrepareAttentionInputs_in3_out4\n",
            "  Serial_in4_out2[\n",
            "    Branch_in4_out3[\n",
            "      None\n",
            "      Serial_in4_out2[\n",
            "        _in4_out4\n",
            "        Serial_in4_out2[\n",
            "          Parallel_in3_out3[\n",
            "            Dense_512\n",
            "            Dense_512\n",
            "            Dense_512\n",
            "          ]\n",
            "          PureAttention_in4_out2\n",
            "          Dense_512\n",
            "        ]\n",
            "        _in2_out2\n",
            "      ]\n",
            "    ]\n",
            "    Add_in2\n",
            "  ]\n",
            "  Select[0,2]_in3_out2\n",
            "  LSTM_512\n",
            "  LSTM_512\n",
            "  Dense_10000\n",
            "  LogSoftmax\n",
            "]\n"
          ]
        }
      ]
    },
    {
      "cell_type": "markdown",
      "metadata": {
        "id": "s45j75CVxV1Z"
      },
      "source": [
        "That's a lot of things, right? Each of these are one of the network **layers**.\n",
        "\n",
        "Layers are the LEGO blocks of Trax!\n",
        "\n",
        "<img src='https://cdn.britannica.com/48/182648-050-6C20C6AB/LEGO-bricks.jpg' height=300>\n",
        "\n",
        "With these layers we can create our own models as well.\n",
        "\n",
        "Each layer is a function (or a whole bunch of functions bundled together) that gets some input and returns output in the promised format.\n",
        "\n",
        "Layers can be combined using what are called \"combiner layers\". \n",
        "\n",
        "By default, there are 3 \"combiner\" layers: \"Serial\" (sequential model), \"Branch\" (parallel model) and \"Residual\" (kind of a merge between Serial and Branch).\n",
        "\n",
        "Example:\n",
        "\n",
        "```python\n",
        "# tl is common shortcut for trax.layers, as np is for numpy and pd is for pandas.\n",
        "model = tl.Serial(\n",
        "    layer1,\n",
        "    layer2,\n",
        "    layer3\n",
        ")\n",
        "# Will run layer1>layer2>layer3\n",
        "model2 = tl.Branch(\n",
        "    layer1,\n",
        "    layer2\n",
        ")\n",
        "# Will run layer1 and layer2 at once.\n",
        "```\n",
        "\n",
        "### Create your own layers\n",
        "\n",
        "We can use trax [predefined layers](https://trax-ml.readthedocs.io/en/latest/trax.layers.html) (such as LSTM Cells, Dense layers, etc), but we can even make our own layers. \n",
        "\n",
        "There are two ways to create our own layers: the first is to implement it completely by inheriting from any layer (and overriding inputs). We'll see an example with a Dense Layer modification.\n",
        "\n",
        "The other method is to provide a function to ```trax.layers.PureLayer(forward_fn = your_function_here)``` and add it as a layer.\n",
        "\n",
        "For that, suppose we wanted to make a Dense Layer with a weird bias pattern in forward pass. We make a class that inherits from tl.Dense and modify the forward method, like such:"
      ]
    },
    {
      "cell_type": "code",
      "metadata": {
        "id": "dEoeaym13spV"
      },
      "source": [
        "from trax.fastmath import numpy as jnp #Numpy on steroids for the computations\n",
        "\n",
        "class MyDenseLayer(tl.Dense):\n",
        "    def forward(self, x):\n",
        "        \"\"\"Our modified forward pass with half bias term.\n",
        "        Args:\n",
        "        x: Tensor of same shape and dtype as the input signature used to\n",
        "            initialize this layer.\n",
        "        Returns:\n",
        "        Tensor of same shape and dtype as the input, except the final dimension\n",
        "        is the layer's `n_units` value.\n",
        "        \"\"\"\n",
        "        if self._use_bias:\n",
        "            if not isinstance(self.weights, (tuple, list)):\n",
        "                raise ValueError(f'Weights should be a (w, b) tuple or list; '\n",
        "                                f'instead got: {self.weights}')\n",
        "            w, b = self.weights\n",
        "            return jnp.dot(x, w) + b*0.5  # Here's where we add our modification, by halving the bias term. You can check the original source at https://github.com/google/trax/blob/master/trax/layers/core.py\n",
        "        else:\n",
        "            w = self.weights\n",
        "            return jnp.dot(x, w)  \n"
      ],
      "execution_count": null,
      "outputs": []
    },
    {
      "cell_type": "markdown",
      "metadata": {
        "id": "KLFjscR-5Lc5"
      },
      "source": [
        "We can also define a full layer from scratch by inheriting from trax.base.Layer, but I won't get into that.\n",
        "\n",
        "Let us now build an entire model with this layer that we've built. We'll use a Serial Layer as a combiner."
      ]
    },
    {
      "cell_type": "code",
      "metadata": {
        "id": "cmgWTWsx2fnd",
        "outputId": "cb419aa4-16fb-4e20-fb11-1e15a789b4af",
        "colab": {
          "base_uri": "https://localhost:8080/"
        }
      },
      "source": [
        "# Btw this is the same as the sample from trax quickstart guide.\n",
        "sentiment_analysis_model = tl.Serial(\n",
        "    tl.Embedding(data.vocab_size(vocab_file='en_8k.subword'), d_feature=256), #Add an embeddings layer to turn tokens into embeddings with 256 dim and vocab size equal to the one used for tokenization.\n",
        "    tl.Mean(axis=1),  # Average on axis 1 (length of sentence).\n",
        "    MyDenseLayer(2),      # Classify 2 classes.\n",
        "    tl.LogSoftmax()   # Produce log-probabilities.\n",
        ")\n",
        "# Let us peek into our model\n",
        "print(sentiment_analysis_model)"
      ],
      "execution_count": null,
      "outputs": [
        {
          "output_type": "stream",
          "name": "stdout",
          "text": [
            "Serial[\n",
            "  Embedding_8183_256\n",
            "  Mean\n",
            "  Dense_2\n",
            "  LogSoftmax\n",
            "]\n"
          ]
        }
      ]
    },
    {
      "cell_type": "markdown",
      "metadata": {
        "id": "FGlvs7Z-7N3S"
      },
      "source": [
        "\n",
        "\n",
        "---\n",
        "\n",
        "\n",
        "## Training Models\n",
        "\n",
        "So we already seen the way pipelines are created and how to create/use models.\n",
        "\n",
        "Now, it is time for us to do the trick and put both of them to work together.\n",
        "\n",
        "Let us put the machine to learn!\n",
        "\n",
        "<img src='https://images.unsplash.com/photo-1563209259-b2fa97148ce1?ixlib=rb-1.2.1&ixid=eyJhcHBfaWQiOjEyMDd9&auto=format&fit=crop&w=1257&q=80' height=300>\n",
        "\n",
        "\n",
        "\n",
        "---\n",
        "\n",
        "Remember, there are two main methods of Machine Learning:\n",
        "\n",
        "*   Supervised\n",
        "*   unsupervised\n",
        "\n",
        "\n",
        "We're only covering supervised and self-supervised models (those where we get the targets from the inputs).\n",
        "\n",
        "To do Supervised Training in Trax, we have to define three important 'blocks':\n",
        "\n",
        "1.   The training task, which takes as input the labeled data, the loss layer, the optimizer and the number of steps between checkpoints.\n",
        "2.   The eval task, which takes as input the labeled data, the metrics and the number of eval batches.\n",
        "3.   The training loop, which puts all of this together.\n",
        "\n",
        "We get all that from trax.supervised. \n",
        "\n",
        "Before, though, let us use those pipelines we've learned before to build the labeled that for training and eval.\n"
      ]
    },
    {
      "cell_type": "code",
      "metadata": {
        "id": "rjTIMr5hBZc0"
      },
      "source": [
        "# First we get the streams from TFDS\n",
        "train_stream = trax.data.TFDS('imdb_reviews', keys=('text', 'label'), train=True)()\n",
        "eval_stream = trax.data.TFDS('imdb_reviews', keys=('text', 'label'), train=False)()\n",
        "\n",
        "# Next, we build the pipeline\n",
        "data_pipeline = trax.data.Serial(\n",
        "    trax.data.Tokenize(vocab_file='en_8k.subword', keys=[0]),\n",
        "    trax.data.Shuffle(),\n",
        "    trax.data.FilterByLength(max_length=2048, length_keys=[0]),\n",
        "    trax.data.BucketByLength(boundaries=[  32, 128, 512, 2048],\n",
        "                             batch_sizes=[512, 128,  32,    8, 1],\n",
        "                             length_keys=[0]),\n",
        "    trax.data.AddLossWeights()\n",
        "  )\n",
        "\n",
        "# Finally, we get the generators\n",
        "train_batches_stream = data_pipeline(train_stream)\n",
        "eval_batches_stream = data_pipeline(eval_stream)\n",
        "\n",
        "# We should redefine the model with the correct Dense layer, otherwise weird things will happen!\n",
        "sentiment_analysis_model = tl.Serial(\n",
        "    tl.Embedding(data.vocab_size(vocab_file='en_8k.subword'), d_feature=256),\n",
        "    tl.Mean(axis=1),\n",
        "    tl.Dense(2),\n",
        "    tl.LogSoftmax()\n",
        ")"
      ],
      "execution_count": null,
      "outputs": []
    },
    {
      "cell_type": "markdown",
      "metadata": {
        "id": "wYEDkYjQ-j4E"
      },
      "source": [
        "\n",
        "\n",
        "---\n",
        "Now we can define the training/eval tasks and the loop.\n",
        "\n",
        "Just some important notes before.\n",
        "\n",
        "About the training and eval tasks:\n",
        "* We're using CrossEntropyLoss for the loss layer.\n",
        "* We're using Adam as the optimizer. This is the actual de-facto standard optimizer for DNNs.\n",
        "* We're also using accuracy as a metric. There are others which are fit to other situations. Check them here: https://trax-ml.readthedocs.io/en/latest/trax.layers.html#module-trax.layers.metrics\n",
        "\n",
        "About the Traning loop:\n",
        "* We create an output dir for the weights and checkpoints.\n",
        "* We plug the model and the train/eval tasks.\n",
        "* We run it by using training_loop.run =)"
      ]
    },
    {
      "cell_type": "code",
      "metadata": {
        "id": "Kb1xK-HZ-QPA",
        "outputId": "d60ad7e6-6c1d-4e2c-b250-3ddad44e583c",
        "colab": {
          "base_uri": "https://localhost:8080/"
        }
      },
      "source": [
        "from trax.supervised import training\n",
        "import os\n",
        "\n",
        "# Training task.\n",
        "train_task = training.TrainTask(\n",
        "    labeled_data=train_batches_stream,\n",
        "    loss_layer=tl.CrossEntropyLoss(),\n",
        "    optimizer=trax.optimizers.Adam(0.01),\n",
        "    n_steps_per_checkpoint=200, #This will print the results at every 200 training steps.\n",
        ")\n",
        "\n",
        "# Evaluaton task.\n",
        "eval_task = training.EvalTask(\n",
        "    labeled_data=eval_batches_stream,\n",
        "    metrics=[tl.CrossEntropyLoss(), tl.Accuracy()],\n",
        "    n_eval_batches=20  # For less variance in eval numbers.\n",
        ")\n",
        "\n",
        "# Training loop saves checkpoints to output_dir.\n",
        "output_dir = os.path.expanduser('~/output_dir/')\n",
        "!rm -rf {output_dir}\n",
        "training_loop = training.Loop(sentiment_analysis_model,\n",
        "                              train_task,\n",
        "                              eval_tasks=[eval_task],\n",
        "                              output_dir=output_dir)\n",
        "\n",
        "# Run 2000 steps (batches).\n",
        "training_loop.run(2000)"
      ],
      "execution_count": null,
      "outputs": [
        {
          "output_type": "stream",
          "name": "stdout",
          "text": [
            "\n",
            "Step      1: Total number of trainable weights: 2095362\n",
            "Step      1: Ran 1 train steps in 1.40 secs\n",
            "Step      1: train CrossEntropyLoss |  0.69225746\n",
            "Step      1: eval  CrossEntropyLoss |  0.68985087\n",
            "Step      1: eval          Accuracy |  0.54062500\n",
            "\n",
            "Step    200: Ran 199 train steps in 17.50 secs\n",
            "Step    200: train CrossEntropyLoss |  0.64294529\n",
            "Step    200: eval  CrossEntropyLoss |  0.60096635\n",
            "Step    200: eval          Accuracy |  0.66406250\n",
            "\n",
            "Step    400: Ran 200 train steps in 16.77 secs\n",
            "Step    400: train CrossEntropyLoss |  0.46843573\n",
            "Step    400: eval  CrossEntropyLoss |  0.42378835\n",
            "Step    400: eval          Accuracy |  0.81562500\n",
            "\n",
            "Step    600: Ran 200 train steps in 15.25 secs\n",
            "Step    600: train CrossEntropyLoss |  0.37792361\n",
            "Step    600: eval  CrossEntropyLoss |  0.37655992\n",
            "Step    600: eval          Accuracy |  0.83281250\n",
            "\n",
            "Step    800: Ran 200 train steps in 15.00 secs\n",
            "Step    800: train CrossEntropyLoss |  0.36868617\n",
            "Step    800: eval  CrossEntropyLoss |  0.38055726\n",
            "Step    800: eval          Accuracy |  0.86054688\n",
            "\n",
            "Step   1000: Ran 200 train steps in 15.26 secs\n",
            "Step   1000: train CrossEntropyLoss |  0.36728150\n",
            "Step   1000: eval  CrossEntropyLoss |  0.44638062\n",
            "Step   1000: eval          Accuracy |  0.79375000\n",
            "\n",
            "Step   1200: Ran 200 train steps in 14.86 secs\n",
            "Step   1200: train CrossEntropyLoss |  0.37044281\n",
            "Step   1200: eval  CrossEntropyLoss |  0.30726682\n",
            "Step   1200: eval          Accuracy |  0.89375000\n",
            "\n",
            "Step   1400: Ran 200 train steps in 14.68 secs\n",
            "Step   1400: train CrossEntropyLoss |  0.33625901\n",
            "Step   1400: eval  CrossEntropyLoss |  0.53244662\n",
            "Step   1400: eval          Accuracy |  0.82656250\n",
            "\n",
            "Step   1600: Ran 200 train steps in 14.98 secs\n",
            "Step   1600: train CrossEntropyLoss |  0.32189557\n",
            "Step   1600: eval  CrossEntropyLoss |  0.35373880\n",
            "Step   1600: eval          Accuracy |  0.87187500\n",
            "\n",
            "Step   1800: Ran 200 train steps in 14.46 secs\n",
            "Step   1800: train CrossEntropyLoss |  0.30672002\n",
            "Step   1800: eval  CrossEntropyLoss |  0.35737094\n",
            "Step   1800: eval          Accuracy |  0.86093750\n",
            "\n",
            "Step   2000: Ran 200 train steps in 15.17 secs\n",
            "Step   2000: train CrossEntropyLoss |  0.28443205\n",
            "Step   2000: eval  CrossEntropyLoss |  0.26599909\n",
            "Step   2000: eval          Accuracy |  0.91406250\n"
          ]
        }
      ]
    },
    {
      "cell_type": "markdown",
      "metadata": {
        "id": "F4lROxqmAkcT"
      },
      "source": [
        "\n",
        "Okay, now how to use this model?\n",
        "\n",
        "\n",
        "\n",
        "---\n",
        "\n",
        "\n",
        "\n",
        "## Predicting from new inputs\n",
        "\n",
        "So we got a trained model, how do we use it?\n",
        "\n",
        "Simple! **Just feed a tokenized input to the model**!\n",
        "\n",
        "But, a caution note before: Trax models (as all current deep learning frameworks) expects the input to come with a batch dimmension besides the expected input dimmensions. So we have to wrap our sample arround that.\n",
        "\n",
        "Let us try it out."
      ]
    },
    {
      "cell_type": "code",
      "metadata": {
        "id": "oa1ZqpjEkMyn",
        "outputId": "972c0d94-86b8-4f6c-e36c-2b3ca3e61e0d",
        "colab": {
          "base_uri": "https://localhost:8080/"
        }
      },
      "source": [
        "import numpy\n",
        "example_input = \"I loved the way that the actors were cast, also, It is clear that they've put a huge effort in post-production.\"\n",
        "#example_input = \"Very bad movie\"\n",
        "# Steps explained: \n",
        "# 1st: tokenize input. We cast it to an iterator to fake a generator.\n",
        "input_iter = iter([example_input])\n",
        "input_tokens = data.tokenize(input_iter, vocab_file='en_8k.subword')\n",
        "# 2nd: cast the results to a list and get the first value (the tokens, not the label or anything else)\n",
        "tokenized_input = list(input_tokens)[0]\n",
        "# 3rd: Add fake batch dimmension\n",
        "tokenized_with_batch = tokenized_input[None, :]\n",
        "# 4th: input it to the model and get the logprobs\n",
        "sentiment_log_probs = sentiment_analysis_model(tokenized_with_batch)\n",
        "# 5th: get the values to between 0 and 1 by exponentiating the logprobs.\n",
        "norm_log_probs = numpy.exp(sentiment_log_probs)\n",
        "# 6th: get if it's either true or false by checking the position of the greatest values at norm_log_probs dimmension 0 (that's what argmax does)\n",
        "sentiment = numpy.argmax(norm_log_probs[0])\n",
        "print('Input review:\\n\"{}\"\\nThe sentiment is: {}'.format(example_input, \"\\033[92mPositive\" if sentiment else \"\\033[91mNegative\"))"
      ],
      "execution_count": null,
      "outputs": [
        {
          "output_type": "stream",
          "name": "stdout",
          "text": [
            "Input review:\n",
            "\"I loved the way that the actors were cast, also, It is clear that they've put a huge effort in post-production.\"\n",
            "The sentiment is: \u001b[91mNegative\n"
          ]
        }
      ]
    },
    {
      "cell_type": "code",
      "metadata": {
        "id": "ujbdHgv1JI_f"
      },
      "source": [
        "# Just a hint: make your life easier with a function:\n",
        "import numpy\n",
        "def parse_sentiment(text, model, vocab_file = 'en_8k.subword'):\n",
        "    input_iter = iter([example_input])\n",
        "    input_tokens = data.tokenize(input_iter, vocab_file=vocab_file)\n",
        "    tokenized_input = list(input_tokens)[0]\n",
        "    tokenized_with_batch = tokenized_input[None, :]\n",
        "    sentiment_log_probs = model(tokenized_with_batch)\n",
        "    norm_log_probs = numpy.exp(sentiment_log_probs)\n",
        "    sentiment = numpy.argmax(norm_log_probs[0])\n",
        "    return \"Positive\" if sentiment else \"Negative\"\n"
      ],
      "execution_count": null,
      "outputs": []
    },
    {
      "cell_type": "markdown",
      "metadata": {
        "id": "L08jLVygETPW"
      },
      "source": [
        "\n",
        "\n",
        "---\n",
        "\n",
        "\n",
        "## Restoring the Model\n",
        "\n",
        "This enables us to retake training from a certain point, which is useful if you want to train for a really long time, if for some reason the running session crashes or if you want to test new parameters to the training."
      ]
    },
    {
      "cell_type": "code",
      "metadata": {
        "id": "fi9kP_hcEYZ9",
        "outputId": "e985c1e5-7caa-4c57-b306-5553a99ab6ea",
        "colab": {
          "base_uri": "https://localhost:8080/"
        }
      },
      "source": [
        "# This loads a checkpoint:\n",
        "training_loop.load_checkpoint(directory='~/output_dir/', filename=\"model.pkl.gz\")\n",
        "# Continue training:\n",
        "training_loop.run(200)"
      ],
      "execution_count": null,
      "outputs": [
        {
          "output_type": "stream",
          "name": "stdout",
          "text": [
            "\n",
            "Step   2400: Ran 200 train steps in 13.82 secs\n",
            "Step   2400: train CrossEntropyLoss |  0.28808481\n",
            "Step   2400: eval  CrossEntropyLoss |  0.37845760\n",
            "Step   2400: eval          Accuracy |  0.84023437\n"
          ]
        }
      ]
    },
    {
      "cell_type": "markdown",
      "metadata": {
        "id": "PtKMdHa_OGMY"
      },
      "source": [
        "We can also load a pretrained model. This allows us to use models that have been trained before and are to be used in production:"
      ]
    },
    {
      "cell_type": "code",
      "metadata": {
        "id": "GLSyFS5KFO9_",
        "outputId": "b0fb28dd-ab2e-4ecb-f6e0-665779c19262",
        "colab": {
          "base_uri": "https://localhost:8080/"
        }
      },
      "source": [
        "# First, we need the same structure:\n",
        "new_model = tl.Serial(\n",
        "    tl.Embedding(data.vocab_size(vocab_file='en_8k.subword'), d_feature=256),\n",
        "    tl.Mean(axis=1),\n",
        "    tl.Dense(2),\n",
        "    tl.LogSoftmax()\n",
        ")\n",
        "# Then, we load the weights:\n",
        "new_model.init_from_file(file_name=\"/root/output_dir/model.pkl.gz\", weights_only=True) # Only load weights\n",
        "# Same result as before (I used a helper function for simplicity)\n",
        "print(\"The sentiment is: \", parse_sentiment(\"Very bad movie\", new_model))"
      ],
      "execution_count": null,
      "outputs": [
        {
          "output_type": "stream",
          "name": "stdout",
          "text": [
            "The sentiment is:  Negative\n"
          ]
        }
      ]
    },
    {
      "cell_type": "markdown",
      "metadata": {
        "id": "dSHmTbrISuCb"
      },
      "source": [
        "### Saving as Keras model and exporting to Tensorflow Serving\n",
        "\n",
        "As mentioned, Trax models can be easily converted to Keras layers. This also happens to entire models that can be warpped arround Keras layers and then be saved using the later to be exported to Tensorflow Serving. This is a convenient features that can help bringing your trained models into production.\n",
        "\n",
        "However, for that to happen, there's the need for the backend to be set to tensorflow-numpy, which is the same behind Keras. And **the model has to be trained using tensorflow-numpy** as backend (you cannot train with Jax and deploy with tensorflow-numpy)."
      ]
    },
    {
      "cell_type": "code",
      "metadata": {
        "id": "4JrsiWBqaejv",
        "outputId": "fdac334a-c934-4a96-ce5f-7aadb9c463ac",
        "colab": {
          "base_uri": "https://localhost:8080/"
        }
      },
      "source": [
        "import tensorflow as tf\n",
        "# Setting the backend\n",
        "trax.fastmath.set_backend(\"tensorflow-numpy\")\n",
        "print(trax.fastmath.backend_name())"
      ],
      "execution_count": null,
      "outputs": [
        {
          "output_type": "stream",
          "name": "stdout",
          "text": [
            "tensorflow-numpy\n"
          ]
        }
      ]
    },
    {
      "cell_type": "markdown",
      "metadata": {
        "id": "mYi4mcMrdFHm"
      },
      "source": [
        "One hint: train the bulk on Jax (if the promise of efficiency keeps up) and then load tensorflow-numpy for a few epochs to convert the model to tensorflow."
      ]
    },
    {
      "cell_type": "code",
      "metadata": {
        "id": "LaerlTawUYh7"
      },
      "source": [
        "training_loop = training.Loop(sentiment_analysis_model,\n",
        "                              train_task,\n",
        "                              eval_tasks=[eval_task],\n",
        "                              output_dir=output_dir)\n",
        "\n",
        "# Run 2000 steps (batches).\n",
        "training_loop.run(20)"
      ],
      "execution_count": null,
      "outputs": []
    },
    {
      "cell_type": "markdown",
      "metadata": {
        "id": "AAUq0-flppto"
      },
      "source": [
        "To convert the model to a Keras layer, it is very straightforward: just call trax.AsKeras(model) and you get a keras layer as the output!"
      ]
    },
    {
      "cell_type": "code",
      "metadata": {
        "id": "7mEKbR60e6Sl",
        "outputId": "9882316e-26b0-4829-f6ea-f4c9efa422b1",
        "colab": {
          "base_uri": "https://localhost:8080/"
        }
      },
      "source": [
        "# To convert the model to Keras, simply run:\n",
        "keras_layer = trax.AsKeras(sentiment_analysis_model)\n",
        "# This will be a trax.trax2keras.AsKeras object\n",
        "print(keras_layer)\n",
        "\n",
        "# Run the Keras layer to verify it returns the same result.\n",
        "example_input = list(data.tokenize(iter([\"I loved the way that the actors were cast, also, It is clear that they've put a huge effort in post-production.\"]), vocab_file=\"en_8k.subword\"))[0]\n",
        "sentiment_activations = keras_layer(example_input[None, :])\n",
        "print(f'Keras returned sentiment activations: {numpy.asarray(sentiment_activations)}')"
      ],
      "execution_count": null,
      "outputs": [
        {
          "output_type": "stream",
          "name": "stdout",
          "text": [
            "<trax.trax2keras.AsKeras object at 0x7f2ff7a588b0>\n",
            "Keras returned sentiment activations: [[-0.03070426 -3.498665  ]]\n"
          ]
        }
      ]
    },
    {
      "cell_type": "markdown",
      "metadata": {
        "id": "rsxdt06wqDxf"
      },
      "source": [
        "Finally, use it as a layer on a full keras model!"
      ]
    },
    {
      "cell_type": "code",
      "metadata": {
        "id": "Ozt4Z2vqp6vu",
        "outputId": "721d908a-f163-43df-bf3f-3caa550e9380",
        "colab": {
          "base_uri": "https://localhost:8080/"
        }
      },
      "source": [
        "# Create a full Keras  model using the layer from Trax.\n",
        "inputs = tf.keras.Input(shape=(None,), dtype='int32')\n",
        "hidden = keras_layer(inputs)\n",
        "# You can add other Keras layers here operating on hidden.\n",
        "outputs = hidden\n",
        "keras_model = tf.keras.Model(inputs=inputs, outputs=outputs)\n",
        "print(keras_model)"
      ],
      "execution_count": null,
      "outputs": [
        {
          "output_type": "stream",
          "name": "stdout",
          "text": [
            "<keras.engine.functional.Functional object at 0x7f2ff6098d00>\n"
          ]
        }
      ]
    },
    {
      "cell_type": "markdown",
      "metadata": {
        "id": "-FAc-2zCqKlH"
      },
      "source": [
        "To save the model to deployment, it is the same as in other Keras models:"
      ]
    },
    {
      "cell_type": "code",
      "metadata": {
        "id": "rju8xXEOqOfO",
        "outputId": "b755dc6a-da4a-4b9b-a591-cc931e1c5a57",
        "colab": {
          "base_uri": "https://localhost:8080/"
        }
      },
      "source": [
        "model_file = os.path.join(\"/content/\", \"saved_model\")\n",
        "# This yields a .pb file in the defined path: /content/saved_model/saved_model.pb\n",
        "keras_model.save(model_file)"
      ],
      "execution_count": null,
      "outputs": [
        {
          "output_type": "stream",
          "name": "stderr",
          "text": [
            "WARNING:tensorflow:Compiled the loaded model, but the compiled metrics have yet to be built. `model.compile_metrics` will be empty until you train or evaluate the model.\n"
          ]
        }
      ]
    },
    {
      "cell_type": "markdown",
      "metadata": {
        "id": "STw9Ad6dNtQ0"
      },
      "source": [
        "\n",
        "\n",
        "---\n",
        "\n",
        "\n",
        "# Other NLP Tasks with Trax\n",
        "\n",
        "Now that we've seen how to do a basic sentiment analysis with Trax, I'll give some examples on how to do other tasks as well.\n",
        "\n",
        "For some of them, we'll need quite a lot of data, so bear with me during the downloads, ok?\n"
      ]
    },
    {
      "cell_type": "markdown",
      "metadata": {
        "id": "BoxLzDZbeWQ8"
      },
      "source": [
        "---\n",
        "## Neural Machine Translation with Transformer model\n",
        "\n",
        "Suppose we wanted to train a transformer to translate from English to Portuguese. We could do that! First, we get some data, for example, the enpt pairs from the para_crawl corpus.\n",
        "\n",
        "Btw.: This is a huge corpus (about 2.65 gb after uncompression), so it takes a good while to download (more than 30 min)."
      ]
    },
    {
      "cell_type": "code",
      "metadata": {
        "id": "vcuWYTWAJBQW"
      },
      "source": [
        "nmt_train_stream = data.TFDS('para_crawl/enpt', keys=['en', 'pt'], train = True, eval_holdout_size=0.2)()\n",
        "nmt_eval_stream = data.TFDS('para_crawl/enpt', keys=['en', 'pt'], train = False, eval_holdout_size=0.2)()"
      ],
      "execution_count": null,
      "outputs": []
    },
    {
      "cell_type": "markdown",
      "metadata": {
        "id": "ucKu3jiWRBzj"
      },
      "source": [
        "### Data preparation and Model creation\n",
        "\n",
        "To train a NMT model, we need a vocab file that (preferrably) encompasses both languages at once. I added an example below, and a predefinde one. \n",
        "\n",
        "If you want to use it for your own tasks, feel free to change the line numbers (let the whole corpus be loaded to a file) and increase the vocab_size. Just remember to save this vocab file."
      ]
    },
    {
      "cell_type": "code",
      "metadata": {
        "id": "Qixfut5PiSmh"
      },
      "source": [
        "# This downloads a pretrained sentencepiece vocab that I pretrained, comment it to let it be generated.\n",
        "\n",
        "!wget https://storage.googleapis.com/dl_models/enpt_32k.model\n",
        "\n",
        "# The following steps will train a sentencepiece model for portuguese vocab. It is not necessary if you already have one.\n",
        "import os.path\n",
        "import io\n",
        "import sentencepiece as spm\n",
        "if not os.path.isfile('/content/enpt_32k.model'):\n",
        "    if not os.path.isfile('/content/lines.txt'):\n",
        "        def turn_port_to_file(stream):\n",
        "            linenum = 0\n",
        "            with open('lines.txt', 'w') as file:\n",
        "                for en, pt in stream:\n",
        "                    file.write(pt.decode('utf8')+\"\\n\")\n",
        "                    file.write(en.decode('utf8')+\"\\n\")\n",
        "                    linenum+=2\n",
        "                    if linenum > 100000:\n",
        "                        break\n",
        "        turn_port_to_file(nmt_train_stream)\n",
        "    model = io.BytesIO()\n",
        "    # We're using Sentencepiece with bpe model type. It will make a 32k words vocab with both portuguese and english worrds.\n",
        "    spm.SentencePieceTrainer.train(\n",
        "        input='/content/lines.txt', model_writer=model, vocab_size=32000, pad_id=0, unk_id=2,\n",
        "         bos_id=3, eos_id=1, pad_piece='<pad>', unk_piece='<unk>', bos_piece='<bos>', eos_piece='<eos>', num_threads=128, model_type='BPE') \n",
        "    # Important: Remember to use these pad, unk, bos and eos ids in custom vocab files, since Trax will expect them in this order.\n",
        "\n",
        "    # Serialize the model as file.\n",
        "    with open('/content/enpt_32k.model', 'wb') as f:\n",
        "        f.write(model.getvalue())\n",
        "\n",
        "# We set a simple model. Be aware that this is not the most efficient out there!\n",
        "transformer_nmt = trax.models.Transformer(input_vocab_size=data.vocab_size(vocab_type='sentencepiece', vocab_file='enpt_32k.model', vocab_dir='/content'),\n",
        "                                            output_vocab_size=data.vocab_size(vocab_type='sentencepiece', vocab_file='enpt_32k.model', vocab_dir='/content'),d_model=512,\n",
        "            n_encoder_layers=2,\n",
        "            n_decoder_layers=2,\n",
        "            n_heads =4)"
      ],
      "execution_count": null,
      "outputs": []
    },
    {
      "cell_type": "code",
      "metadata": {
        "id": "nBbWXrLKiehv"
      },
      "source": [
        "# Prepare the preprocessing pipeline\n",
        "nmt_data_pipeline = trax.data.Serial(\n",
        "    trax.data.Tokenize(vocab_type='sentencepiece', vocab_file='enpt_32k.model', vocab_dir='/content', keys=[0, 1]),\n",
        "    trax.data.Shuffle(),\n",
        "    trax.data.FilterByLength(max_length=1024, length_keys=[0, 1]),\n",
        "    trax.data.BucketByLength(boundaries=[16, 32, 64, 128, 256, 512, 1024], #Let us go only with smaller strings for simplicity\n",
        "                             batch_sizes=[512, 256, 128, 64, 32, 16, 8],\n",
        "                             length_keys=[0, 1]),\n",
        "    trax.data.AddLossWeights()\n",
        "  )\n",
        "\n",
        "nmt_train_batches_stream = nmt_data_pipeline(nmt_train_stream)\n",
        "nmt_eval_batches_stream = nmt_data_pipeline(nmt_eval_stream)"
      ],
      "execution_count": null,
      "outputs": []
    },
    {
      "cell_type": "markdown",
      "metadata": {
        "id": "1dlD_jdpVrEg"
      },
      "source": [
        "### Model Training"
      ]
    },
    {
      "cell_type": "code",
      "metadata": {
        "id": "fHNUQ_Ymjxpc"
      },
      "source": [
        "from trax.supervised import training\n",
        "import os\n",
        "\n",
        "# Training task, as usual, but with one more step: setting up the lr scale with warmup for better training.\n",
        "nmt_train_task = training.TrainTask(\n",
        "    labeled_data=nmt_train_batches_stream,\n",
        "    loss_layer=tl.CrossEntropyLoss(),\n",
        "    optimizer=trax.optimizers.Adam(0.1),\n",
        "    lr_schedule= trax.lr.warmup_and_rsqrt_decay(1000, 0.01),\n",
        "    n_steps_per_checkpoint=200\n",
        ")\n",
        "\n",
        "# Evaluaton task.\n",
        "nmt_eval_task = training.EvalTask(\n",
        "    labeled_data=nmt_eval_batches_stream,\n",
        "    metrics=[tl.CrossEntropyLoss(), tl.Accuracy()],\n",
        "    n_eval_batches=20\n",
        ")\n",
        "\n",
        "# Training loop saves checkpoints to output_dir.\n",
        "output_dir = os.path.expanduser('/content/nmt')\n",
        "nmt_training_loop = training.Loop(transformer_nmt,\n",
        "                              nmt_train_task,\n",
        "                              eval_tasks=[nmt_eval_task],\n",
        "                              output_dir=output_dir)\n",
        "#Here you can download a pretrained model. I've trained it for more than 50k steps, but got to just 55%.\n",
        "# !wget --directory-prefix=nmt/ https://storage.googleapis.com/dl_models/model.pkl.gz\n",
        "if os.path.isfile('/content/nmt/model.pkl.gz'):\n",
        "    nmt_training_loop.load_checkpoint('/content/nmt/model.pkl.gz')\n",
        "# This will take a while (I trained for about 30 hours!) It can get to about 56% accuracy. This is a vague metric, but the thing is it will be awful (will produce blabberish). \n",
        "# Unless you're like google and have 'unlimited' TPU's, you won't be able to do anything useful.\n",
        "nmt_training_loop.run(15000) "
      ],
      "execution_count": null,
      "outputs": []
    },
    {
      "cell_type": "markdown",
      "metadata": {
        "id": "PnKHb2PDj3Q4"
      },
      "source": [
        "### Performing Translations\n",
        "There are different techniques to perform a translation using a NMT model. \n",
        "\n",
        "One method is to use **autoregressive sampling** (currently implemented in trax 1.36), which does translation based on each other output in a linear format.\n",
        "\n",
        "There's another method not currently available in the current release: BeamSearch. It is on some of trax prototypes, so expect this to be available soon. BeamSearch does several translations and choses the one with best scoring, so the performance is better than autoregressive sampling.\n",
        "\n",
        "A word of caution: If you're going to use the model that I've pretrained, it will be blabberish, nonsense. To really train a translator we'd need more than 30h on a single TPU to achieve something useful. But it is a head start. If you need it and have the budget, its not that hard to scale!"
      ]
    },
    {
      "cell_type": "code",
      "metadata": {
        "id": "ekVIPqiKSfv4"
      },
      "source": [
        "# We start by tokenizing the input sentence.\n",
        "sentence = 'this does not yield good results'\n",
        "tokenized = list(trax.data.tokenize\n",
        "                 (iter([sentence]),  # Operates on streams.\n",
        "                                    vocab_type='sentencepiece', vocab_file='enpt_32k.model', vocab_dir='/content'))[0]\n",
        "\n",
        "# We decode the result of feeding the input to the the Transformer using autoregressive sampling.\n",
        "tokenized = tokenized[None, :]  # Add batch dimension.\n",
        "tokenized_translation = trax.supervised.decoding.autoregressive_sample(\n",
        "    transformer_nmt, tokenized, temperature=0.2)  # Temperature allows to help avoid \"rigid\" translations. The closer to 1 = more diverse results.\n",
        "\n",
        "# We de-tokenize the results.\n",
        "tokenized_translation = tokenized_translation[0][:-1]  # Remove batch and EOS token.\n",
        "translation = trax.data.detokenize(tokenized_translation,\n",
        "                                   vocab_type='sentencepiece', vocab_file='enpt_32k.model', vocab_dir='/content')\n",
        "print(translation)\n",
        "# You might get a lot of hiphens and other stuff with the model. That's because it's too weak.\n",
        "# head over to https://trax-ml.readthedocs.io/en/latest/notebooks/trax_intro.html to find a working translator from English to German."
      ],
      "execution_count": null,
      "outputs": []
    },
    {
      "cell_type": "markdown",
      "metadata": {
        "id": "qReaFZoxBBvl"
      },
      "source": [
        "\n",
        "\n",
        "---\n",
        "\n",
        "\n",
        "## Named Entity Recognition with Reformer model\n",
        "\n",
        "This example has been adapted from the original one from Trax git repository (https://github.com/google/trax/blob/master/trax/examples/NER_using_Reformer.ipynb)\n",
        "\n",
        "We'll be using the dataset provided at Kaggle in the following link:https://www.kaggle.com/abhinavwalia95/entity-annotated-corpus?select=ner_dataset.csv\n",
        "\n",
        "I've provided a Google Cloud Storage option for easier usability.\n",
        "\n",
        "We'll download it and load to pandas to do some simple preprocessing."
      ]
    },
    {
      "cell_type": "code",
      "metadata": {
        "id": "CYMCkff9CbN6"
      },
      "source": [
        "import pandas as pd\n",
        "import numpy\n",
        "import random as rnd # For using random functions\n",
        "!wget https://storage.googleapis.com/dl_models/ner_dataset.csv\n",
        "df = pd.read_csv(\"/content/ner_dataset.csv\",encoding = 'ISO-8859-1')\n",
        "df = df.fillna(method = 'ffill')\n",
        "df.head()"
      ],
      "execution_count": null,
      "outputs": []
    },
    {
      "cell_type": "markdown",
      "metadata": {
        "id": "x4imfnmZq7R4"
      },
      "source": [
        "### Data Preprocessing\n",
        "\n",
        "The following cell performs all steps needed to preprocess the input to be used to train the model."
      ]
    },
    {
      "cell_type": "code",
      "metadata": {
        "id": "VvshzEUUDeQU"
      },
      "source": [
        "# Creates a class to process the corpus.\n",
        "class Get_sentence(object):\n",
        "    def __init__(self, data):\n",
        "        self.n_sent = 1\n",
        "        self.data = data\n",
        "        # Use an aggregator function to merge together all words, pos and tags with the same sentence ID.\n",
        "        agg_func = lambda s:[(w,p,t) for w,p,t in zip(s[\"Word\"].values.tolist(),\n",
        "                                                     s[\"POS\"].values.tolist(),\n",
        "                                                     s[\"Tag\"].values.tolist())]\n",
        "        self.grouped = self.data.groupby(\"Sentence #\").apply(agg_func)\n",
        "        self.sentences = [s for s in self.grouped]\n",
        "\n",
        "# Generate the corpus object by instantiating it with the dataframe\n",
        "getter = Get_sentence(df)\n",
        "\n",
        "# Access the merged sentences with the class .sentence property.\n",
        "sentence = getter.sentences\n",
        "\n",
        "# Create a list of unique words\n",
        "words = list(set(df[\"Word\"].values))\n",
        "\n",
        "# Create a list of unique tags\n",
        "words_tag = list(set(df[\"Tag\"].values))\n",
        "\n",
        "# Create a word to idx dict.\n",
        "word_idx = {w : i+1 for i ,w in enumerate(words)}\n",
        "word_idx['<PAD>']=len(word_idx)\n",
        "\n",
        "# Create a tag to idx dict.\n",
        "tag_idx =  {t : i for i ,t in enumerate(words_tag)}\n",
        "\n",
        "# Create a generator function to be used in the data pipeline.\n",
        "def id_translator(sentences):\n",
        "    while True: # Simulates a loop arround batcher. No problem since we are shuffling using trax.\n",
        "        for sentence in sentences: # Loops arround sentences.\n",
        "            words = [word_idx[triplet[0]] for triplet in sentence]\n",
        "            tags = [tag_idx[triplet[2]] for triplet in sentence]\n",
        "            yield numpy.array([words, tags])"
      ],
      "execution_count": null,
      "outputs": []
    },
    {
      "cell_type": "markdown",
      "metadata": {
        "id": "-cP6AAsQsYZ6"
      },
      "source": [
        "In the original sample, a data generator was manually created. \n",
        "\n",
        "We will simplify that by using Trax's own resources:"
      ]
    },
    {
      "cell_type": "code",
      "metadata": {
        "id": "PkAW7720siGi"
      },
      "source": [
        "batch_size=128\n",
        "ner_pipeline = data.Serial(\n",
        "    id_translator, #No need to tokenize, since we did it using the id_translator.\n",
        "    data.Shuffle(),\n",
        "    data.BucketByLength(batch_sizes=[batch_size],boundaries=[1024]),\n",
        "    data.AddLossWeights(id_to_mask=word_idx['<PAD>'])\n",
        ")\n",
        "\n",
        "# Let us split the dataset into train and eval\n",
        "split_size = 0.2\n",
        "split_limit = len(sentence)-int(len(sentence)*split_size)\n",
        "sentences_train = sentence[:split_limit]\n",
        "sentences_eval = sentence[split_limit:]\n",
        "\n",
        "# We now create the pipeline using the train and eval datasets\n",
        "ner_train_pipeline = ner_pipeline(sentences_train)\n",
        "ner_eval_pipeline = ner_pipeline(sentences_eval)"
      ],
      "execution_count": null,
      "outputs": []
    },
    {
      "cell_type": "markdown",
      "metadata": {
        "id": "InTdChpQtbMl"
      },
      "source": [
        "### Creating and training the Model\n",
        "\n",
        "We create the model by using the predefined Reformer and adding a Dense layer with the number of tags as the number of units and a logsoftmax layer.\n",
        "\n",
        "You could go further and add some dropouts to avoid overfitting, but I'll leave that as is.\n"
      ]
    },
    {
      "cell_type": "code",
      "metadata": {
        "id": "ChgGJ21dM1q2"
      },
      "source": [
        "# This will\n",
        "NERModel = tl.Serial(\n",
        "    trax.models.reformer.Reformer(len(word_idx), d_model=50, ff_activation=tl.LogSoftmax),\n",
        "    tl.Dense(len(words_tag)),\n",
        "    tl.LogSoftmax()\n",
        ")"
      ],
      "execution_count": null,
      "outputs": []
    },
    {
      "cell_type": "code",
      "metadata": {
        "id": "TEMSgg7vOH9S"
      },
      "source": [
        "from trax.supervised import training\n",
        "\n",
        "ner_train_task = training.TrainTask(\n",
        "    ner_train_pipeline,  \n",
        "    loss_layer = tl.CrossEntropyLoss(),\n",
        "    lr_schedule= trax.lr.warmup_and_rsqrt_decay(100, 0.001),\n",
        "    optimizer = trax.optimizers.Adam(0.005), \n",
        "    n_steps_per_checkpoint=200\n",
        ")\n",
        "\n",
        "ner_eval_task = training.EvalTask(\n",
        "    labeled_data = ner_eval_pipeline, \n",
        "    metrics = [tl.CrossEntropyLoss(), tl.Accuracy()], \n",
        "    n_eval_batches = 20 \n",
        ")\n",
        "ner_output_dir = \"/content/ner\"\n",
        "os.path.expanduser(ner_output_dir)\n",
        "\n",
        "ner_training_loop = training.Loop(\n",
        "    NERModel, \n",
        "    ner_train_task, \n",
        "    eval_tasks = [ner_eval_task], \n",
        "    output_dir = ner_output_dir) \n",
        "ner_training_loop.load_checkpoint(ner_output_dir+\"/model.pkl.gz\")\n",
        "# You'll have to run for a while to get really acceptable results. Don't be fooled by high accuracy, \n",
        "# there's a huge disproportion between untagged words and tagged words.\n",
        "ner_training_loop.run(n_steps = 10000)"
      ],
      "execution_count": null,
      "outputs": []
    },
    {
      "cell_type": "code",
      "metadata": {
        "id": "quJAe_hwsa2t"
      },
      "source": [
        "ner_training_loop.run(n_steps = 2000)"
      ],
      "execution_count": null,
      "outputs": []
    },
    {
      "cell_type": "markdown",
      "metadata": {
        "id": "O2Va0T6gx1Tc"
      },
      "source": [
        "### Performing tagging on new data\n",
        "\n",
        "To perform tagging on new data, you could tokenize the inputs manually (I did it by splitting the text and converting tokens to indexes).\n",
        "\n",
        "Just be aware of out of vocabulary words. Since this is a simple example, we're not treating them.\n",
        "\n",
        "After tokenizing, feed into the autoregressive_sample and it will suggest the tags in a sequential manner. \n",
        "\n",
        "* Chances are that, if you did train for long enought or did not use a weighting scheme, you'll get awful results (the model will just throw O at all words and no named entity will be detected)."
      ]
    },
    {
      "cell_type": "code",
      "metadata": {
        "id": "x9FJo_xIw5OG"
      },
      "source": [
        "test_sentence = \"I went to Ohio to make a new certificate , its price was 300 USD . Then I moved myself to England .\"\n",
        "split_words = test_sentence.split()\n",
        "tokens = numpy.array([word_idx[word] for word in split_words])\n",
        "tokens_with_batch = tokens[None, :]\n",
        "tokenized_translation = trax.supervised.decoding.autoregressive_sample(\n",
        "    NERModel, tokens_with_batch, temperature=0.0)"
      ],
      "execution_count": null,
      "outputs": []
    },
    {
      "cell_type": "code",
      "metadata": {
        "id": "YLKh6mq4iRSL"
      },
      "source": [
        "for word, tag in zip(split_words, tokenized_translation[0][:len(split_words)]):\n",
        "    print(word, words_tag[tag])"
      ],
      "execution_count": null,
      "outputs": []
    }
  ]
}